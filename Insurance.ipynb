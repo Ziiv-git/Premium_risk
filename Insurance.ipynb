{
  "nbformat": 4,
  "nbformat_minor": 0,
  "metadata": {
    "colab": {
      "name": "Premium.ipynb",
      "provenance": [],
      "collapsed_sections": []
    },
    "kernelspec": {
      "name": "python3",
      "display_name": "Python 3"
    },
    "language_info": {
      "name": "python"
    }
  },
  "cells": [
    {
      "cell_type": "markdown",
      "metadata": {
        "id": "WCi_FwCuAsMR"
      },
      "source": [
        "# Internshala Data Science Challenge \n"
      ]
    },
    {
      "cell_type": "markdown",
      "metadata": {
        "id": "sVfAKDO2AzX4"
      },
      "source": [
        "## Whether the customer will pay next PREMIUM or not?\n",
        "\n",
        "## PROBLEM STATEMENT\n",
        "\n",
        "An insurance policy is an arrangement by which a company undertakes to provide a guarantee of compensation for specified loss, damage, illness, or death in return for the payment of a specified premium. A premium is a sum of money that you pay regularly to an insurance company for this guarantee.\n",
        "\n",
        " \n",
        "\n",
        "For example, you may pay a premium of Rs. 5000 each year for a medical insurance cover of Rs. 200,000/- so that if, God forbid, you fall ill and need to be hospitalised in that year, the insurance provider company will bear the cost of hospitalisation etc. for upto Rs. 200,000. Now if you are wondering how can company bear such high hospitalisation cost when it charges a premium of only Rs. 5000/-, that is where the concept of probabilities comes in picture. For example, like you, there may be 100 customers who would be paying a premium of Rs. 5000 every year, but only a few of them (say 2-3) would get hospitalised that year and not everyone. This way everyone shares the risk of everyone else.\n",
        "\n",
        " \n",
        "\n",
        "Just like medical insurance, there is life insurance where every year you pay a premium of certain amount to insurance provider company so that in case of unfortunate event of your death, the insurance provider company will provide a compensation (called ‘sum assured’) to your immediate family. Similarly, there can be a variety of insurance products for different kinds of risks.\n",
        "\n",
        " \n",
        "\n",
        "As you can imagine, if a large number of customers do not pay the premium on time, it might disrupt the cash flow and smooth operation for the company. A customer may stop making regular premium payments for a variety of reasons - some may forget, some may find it expensive and not worth the value, some may not have money to pay the premium etc.\n",
        "\n",
        " \n",
        "\n",
        "Building a model to predict whether a customer would make the premium payment can be extremely helpful for the company because it can then accordingly plan its communication strategy to reach out to those customers who are less likely to pay and convince them to continue making timely payment."
      ]
    },
    {
      "cell_type": "markdown",
      "metadata": {
        "id": "HEyKmYrhBRGm"
      },
      "source": [
        "## Data Dictionary\n",
        "\n",
        "* id\t= Unique ID of the policy\n",
        "* perc_premium_paid_by_cash_credit\t= Percentage of the  premium amount paid by cash or credit card\n",
        "* age_in_days\t= Age in days of policy holder\n",
        "* Income\t= Monthly Income of policy holder\n",
        "* Count_3-6_months_late\t= No of premiums late by 3 to 6 months\n",
        "* Count_6-12_months_late\t= No  of premiums late by 6 to 12 months\n",
        "* Count_more_than_12_months_late\t= No of premiums late by more than 12 months\n",
        "* application_underwriting_score\t= Underwriting Score of the applicant at the time of application (No applications under the score of 90 are insured)\n",
        "* no_of_premiums_paid\t= Total premiums paid on time till now\n",
        "* sourcing_channel\t= Sourcing channel for application\n",
        "* residence_area_type\t= Area type of Residence (Urban/Rural)\n",
        "* target\t= (1 - premium paid on time, 0 - otherwise)"
      ]
    },
    {
      "cell_type": "markdown",
      "metadata": {
        "id": "jo5SZFESB4En"
      },
      "source": [
        "## Solution and way of pursuing this problem.\n",
        "\n",
        "Since its a binary target variable, either 1 or 0, its a classification problem. THe model shall learn from the train data set and will try to predict the outcome from the test data set. Different Classification models shall be applied, but before applying the model to predict the data, exploratory data analysis shall be done and see which variables are more relevant than others, i.e feature transformation, scalling and feature engineering shall be deployed before getting to the prediction part."
      ]
    },
    {
      "cell_type": "markdown",
      "metadata": {
        "id": "VmODW0KoDIzA"
      },
      "source": [
        "## Exploratory Data Analysis"
      ]
    },
    {
      "cell_type": "code",
      "metadata": {
        "id": "zKGuN2vjAm5Y"
      },
      "source": [
        "# importing libraries\n",
        "import numpy as np \n",
        "import pandas as pd \n",
        "import matplotlib.pyplot as plt\n",
        "import seaborn as sns\n",
        "%matplotlib inline"
      ],
      "execution_count": 1,
      "outputs": []
    },
    {
      "cell_type": "code",
      "metadata": {
        "colab": {
          "base_uri": "https://localhost:8080/",
          "height": 234
        },
        "id": "iBdjoOucDX3-",
        "outputId": "b9d8ae63-f5c6-4874-ebfc-7f1db03f7231"
      },
      "source": [
        "train = pd.read_csv('/content/sample_data/train.csv')\n",
        "train.head(5)"
      ],
      "execution_count": 2,
      "outputs": [
        {
          "output_type": "execute_result",
          "data": {
            "text/html": [
              "<div>\n",
              "<style scoped>\n",
              "    .dataframe tbody tr th:only-of-type {\n",
              "        vertical-align: middle;\n",
              "    }\n",
              "\n",
              "    .dataframe tbody tr th {\n",
              "        vertical-align: top;\n",
              "    }\n",
              "\n",
              "    .dataframe thead th {\n",
              "        text-align: right;\n",
              "    }\n",
              "</style>\n",
              "<table border=\"1\" class=\"dataframe\">\n",
              "  <thead>\n",
              "    <tr style=\"text-align: right;\">\n",
              "      <th></th>\n",
              "      <th>id</th>\n",
              "      <th>perc_premium_paid_by_cash_credit</th>\n",
              "      <th>age_in_days</th>\n",
              "      <th>Income</th>\n",
              "      <th>Count_3-6_months_late</th>\n",
              "      <th>Count_6-12_months_late</th>\n",
              "      <th>Count_more_than_12_months_late</th>\n",
              "      <th>application_underwriting_score</th>\n",
              "      <th>no_of_premiums_paid</th>\n",
              "      <th>sourcing_channel</th>\n",
              "      <th>residence_area_type</th>\n",
              "      <th>target</th>\n",
              "    </tr>\n",
              "  </thead>\n",
              "  <tbody>\n",
              "    <tr>\n",
              "      <th>0</th>\n",
              "      <td>110936</td>\n",
              "      <td>0.429</td>\n",
              "      <td>12058</td>\n",
              "      <td>355060</td>\n",
              "      <td>0.0</td>\n",
              "      <td>0.0</td>\n",
              "      <td>0.0</td>\n",
              "      <td>99.02</td>\n",
              "      <td>13</td>\n",
              "      <td>C</td>\n",
              "      <td>Urban</td>\n",
              "      <td>1</td>\n",
              "    </tr>\n",
              "    <tr>\n",
              "      <th>1</th>\n",
              "      <td>41492</td>\n",
              "      <td>0.010</td>\n",
              "      <td>21546</td>\n",
              "      <td>315150</td>\n",
              "      <td>0.0</td>\n",
              "      <td>0.0</td>\n",
              "      <td>0.0</td>\n",
              "      <td>99.89</td>\n",
              "      <td>21</td>\n",
              "      <td>A</td>\n",
              "      <td>Urban</td>\n",
              "      <td>1</td>\n",
              "    </tr>\n",
              "    <tr>\n",
              "      <th>2</th>\n",
              "      <td>31300</td>\n",
              "      <td>0.917</td>\n",
              "      <td>17531</td>\n",
              "      <td>84140</td>\n",
              "      <td>2.0</td>\n",
              "      <td>3.0</td>\n",
              "      <td>1.0</td>\n",
              "      <td>98.69</td>\n",
              "      <td>7</td>\n",
              "      <td>C</td>\n",
              "      <td>Rural</td>\n",
              "      <td>0</td>\n",
              "    </tr>\n",
              "    <tr>\n",
              "      <th>3</th>\n",
              "      <td>19415</td>\n",
              "      <td>0.049</td>\n",
              "      <td>15341</td>\n",
              "      <td>250510</td>\n",
              "      <td>0.0</td>\n",
              "      <td>0.0</td>\n",
              "      <td>0.0</td>\n",
              "      <td>99.57</td>\n",
              "      <td>9</td>\n",
              "      <td>A</td>\n",
              "      <td>Urban</td>\n",
              "      <td>1</td>\n",
              "    </tr>\n",
              "    <tr>\n",
              "      <th>4</th>\n",
              "      <td>99379</td>\n",
              "      <td>0.052</td>\n",
              "      <td>31400</td>\n",
              "      <td>198680</td>\n",
              "      <td>0.0</td>\n",
              "      <td>0.0</td>\n",
              "      <td>0.0</td>\n",
              "      <td>99.87</td>\n",
              "      <td>12</td>\n",
              "      <td>B</td>\n",
              "      <td>Urban</td>\n",
              "      <td>1</td>\n",
              "    </tr>\n",
              "  </tbody>\n",
              "</table>\n",
              "</div>"
            ],
            "text/plain": [
              "       id  perc_premium_paid_by_cash_credit  ...  residence_area_type  target\n",
              "0  110936                             0.429  ...                Urban       1\n",
              "1   41492                             0.010  ...                Urban       1\n",
              "2   31300                             0.917  ...                Rural       0\n",
              "3   19415                             0.049  ...                Urban       1\n",
              "4   99379                             0.052  ...                Urban       1\n",
              "\n",
              "[5 rows x 12 columns]"
            ]
          },
          "metadata": {
            "tags": []
          },
          "execution_count": 2
        }
      ]
    },
    {
      "cell_type": "code",
      "metadata": {
        "id": "jEFsnK2DeyVm"
      },
      "source": [
        "pd.set_option('display.max_rows', None)\n",
        "pd.set_option('display.max_columns', None)\n",
        "pd.set_option('display.width', None)\n",
        "pd.set_option('display.max_colwidth', None)"
      ],
      "execution_count": 3,
      "outputs": []
    },
    {
      "cell_type": "code",
      "metadata": {
        "colab": {
          "base_uri": "https://localhost:8080/"
        },
        "id": "pQObSFliDfhv",
        "outputId": "69d8bd85-6cb3-48c3-f504-32fe5b84dd3f"
      },
      "source": [
        "train.shape"
      ],
      "execution_count": 4,
      "outputs": [
        {
          "output_type": "execute_result",
          "data": {
            "text/plain": [
              "(79853, 12)"
            ]
          },
          "metadata": {
            "tags": []
          },
          "execution_count": 4
        }
      ]
    },
    {
      "cell_type": "code",
      "metadata": {
        "colab": {
          "base_uri": "https://localhost:8080/"
        },
        "id": "RF6gynR0DtVQ",
        "outputId": "238a25ff-740b-429b-a721-5b6f1d2a577d"
      },
      "source": [
        "train.info()"
      ],
      "execution_count": 5,
      "outputs": [
        {
          "output_type": "stream",
          "text": [
            "<class 'pandas.core.frame.DataFrame'>\n",
            "RangeIndex: 79853 entries, 0 to 79852\n",
            "Data columns (total 12 columns):\n",
            " #   Column                            Non-Null Count  Dtype  \n",
            "---  ------                            --------------  -----  \n",
            " 0   id                                79853 non-null  int64  \n",
            " 1   perc_premium_paid_by_cash_credit  79853 non-null  float64\n",
            " 2   age_in_days                       79853 non-null  int64  \n",
            " 3   Income                            79853 non-null  int64  \n",
            " 4   Count_3-6_months_late             79756 non-null  float64\n",
            " 5   Count_6-12_months_late            79756 non-null  float64\n",
            " 6   Count_more_than_12_months_late    79756 non-null  float64\n",
            " 7   application_underwriting_score    76879 non-null  float64\n",
            " 8   no_of_premiums_paid               79853 non-null  int64  \n",
            " 9   sourcing_channel                  79853 non-null  object \n",
            " 10  residence_area_type               79853 non-null  object \n",
            " 11  target                            79853 non-null  int64  \n",
            "dtypes: float64(5), int64(5), object(2)\n",
            "memory usage: 7.3+ MB\n"
          ],
          "name": "stdout"
        }
      ]
    },
    {
      "cell_type": "markdown",
      "metadata": {
        "id": "v0f_c0LWR7T4"
      },
      "source": [
        "### Univariate analysis & outlier detection\n",
        "\n",
        "Simultaneously transforming them "
      ]
    },
    {
      "cell_type": "code",
      "metadata": {
        "colab": {
          "base_uri": "https://localhost:8080/",
          "height": 366
        },
        "id": "7SRQwrCsSGWu",
        "outputId": "e31ca584-b3d1-4db7-fc97-6a5bd2f9b4a5"
      },
      "source": [
        "# continuous variables \n",
        "train.describe().T"
      ],
      "execution_count": 6,
      "outputs": [
        {
          "output_type": "execute_result",
          "data": {
            "text/html": [
              "<div>\n",
              "<style scoped>\n",
              "    .dataframe tbody tr th:only-of-type {\n",
              "        vertical-align: middle;\n",
              "    }\n",
              "\n",
              "    .dataframe tbody tr th {\n",
              "        vertical-align: top;\n",
              "    }\n",
              "\n",
              "    .dataframe thead th {\n",
              "        text-align: right;\n",
              "    }\n",
              "</style>\n",
              "<table border=\"1\" class=\"dataframe\">\n",
              "  <thead>\n",
              "    <tr style=\"text-align: right;\">\n",
              "      <th></th>\n",
              "      <th>count</th>\n",
              "      <th>mean</th>\n",
              "      <th>std</th>\n",
              "      <th>min</th>\n",
              "      <th>25%</th>\n",
              "      <th>50%</th>\n",
              "      <th>75%</th>\n",
              "      <th>max</th>\n",
              "    </tr>\n",
              "  </thead>\n",
              "  <tbody>\n",
              "    <tr>\n",
              "      <th>id</th>\n",
              "      <td>79853.0</td>\n",
              "      <td>57167.166368</td>\n",
              "      <td>32928.970160</td>\n",
              "      <td>2.0</td>\n",
              "      <td>28640.000</td>\n",
              "      <td>57262.000</td>\n",
              "      <td>85632.000</td>\n",
              "      <td>114076.00</td>\n",
              "    </tr>\n",
              "    <tr>\n",
              "      <th>perc_premium_paid_by_cash_credit</th>\n",
              "      <td>79853.0</td>\n",
              "      <td>0.314288</td>\n",
              "      <td>0.334915</td>\n",
              "      <td>0.0</td>\n",
              "      <td>0.034</td>\n",
              "      <td>0.167</td>\n",
              "      <td>0.538</td>\n",
              "      <td>1.00</td>\n",
              "    </tr>\n",
              "    <tr>\n",
              "      <th>age_in_days</th>\n",
              "      <td>79853.0</td>\n",
              "      <td>18846.696906</td>\n",
              "      <td>5208.719136</td>\n",
              "      <td>7670.0</td>\n",
              "      <td>14974.000</td>\n",
              "      <td>18625.000</td>\n",
              "      <td>22636.000</td>\n",
              "      <td>37602.00</td>\n",
              "    </tr>\n",
              "    <tr>\n",
              "      <th>Income</th>\n",
              "      <td>79853.0</td>\n",
              "      <td>208847.171177</td>\n",
              "      <td>496582.597257</td>\n",
              "      <td>24030.0</td>\n",
              "      <td>108010.000</td>\n",
              "      <td>166560.000</td>\n",
              "      <td>252090.000</td>\n",
              "      <td>90262600.00</td>\n",
              "    </tr>\n",
              "    <tr>\n",
              "      <th>Count_3-6_months_late</th>\n",
              "      <td>79756.0</td>\n",
              "      <td>0.248671</td>\n",
              "      <td>0.691468</td>\n",
              "      <td>0.0</td>\n",
              "      <td>0.000</td>\n",
              "      <td>0.000</td>\n",
              "      <td>0.000</td>\n",
              "      <td>13.00</td>\n",
              "    </tr>\n",
              "    <tr>\n",
              "      <th>Count_6-12_months_late</th>\n",
              "      <td>79756.0</td>\n",
              "      <td>0.078188</td>\n",
              "      <td>0.436507</td>\n",
              "      <td>0.0</td>\n",
              "      <td>0.000</td>\n",
              "      <td>0.000</td>\n",
              "      <td>0.000</td>\n",
              "      <td>17.00</td>\n",
              "    </tr>\n",
              "    <tr>\n",
              "      <th>Count_more_than_12_months_late</th>\n",
              "      <td>79756.0</td>\n",
              "      <td>0.060008</td>\n",
              "      <td>0.312023</td>\n",
              "      <td>0.0</td>\n",
              "      <td>0.000</td>\n",
              "      <td>0.000</td>\n",
              "      <td>0.000</td>\n",
              "      <td>11.00</td>\n",
              "    </tr>\n",
              "    <tr>\n",
              "      <th>application_underwriting_score</th>\n",
              "      <td>76879.0</td>\n",
              "      <td>99.067291</td>\n",
              "      <td>0.739799</td>\n",
              "      <td>91.9</td>\n",
              "      <td>98.810</td>\n",
              "      <td>99.210</td>\n",
              "      <td>99.540</td>\n",
              "      <td>99.89</td>\n",
              "    </tr>\n",
              "    <tr>\n",
              "      <th>no_of_premiums_paid</th>\n",
              "      <td>79853.0</td>\n",
              "      <td>10.863887</td>\n",
              "      <td>5.170687</td>\n",
              "      <td>2.0</td>\n",
              "      <td>7.000</td>\n",
              "      <td>10.000</td>\n",
              "      <td>14.000</td>\n",
              "      <td>60.00</td>\n",
              "    </tr>\n",
              "    <tr>\n",
              "      <th>target</th>\n",
              "      <td>79853.0</td>\n",
              "      <td>0.937410</td>\n",
              "      <td>0.242226</td>\n",
              "      <td>0.0</td>\n",
              "      <td>1.000</td>\n",
              "      <td>1.000</td>\n",
              "      <td>1.000</td>\n",
              "      <td>1.00</td>\n",
              "    </tr>\n",
              "  </tbody>\n",
              "</table>\n",
              "</div>"
            ],
            "text/plain": [
              "                                    count           mean            std  \\\n",
              "id                                79853.0   57167.166368   32928.970160   \n",
              "perc_premium_paid_by_cash_credit  79853.0       0.314288       0.334915   \n",
              "age_in_days                       79853.0   18846.696906    5208.719136   \n",
              "Income                            79853.0  208847.171177  496582.597257   \n",
              "Count_3-6_months_late             79756.0       0.248671       0.691468   \n",
              "Count_6-12_months_late            79756.0       0.078188       0.436507   \n",
              "Count_more_than_12_months_late    79756.0       0.060008       0.312023   \n",
              "application_underwriting_score    76879.0      99.067291       0.739799   \n",
              "no_of_premiums_paid               79853.0      10.863887       5.170687   \n",
              "target                            79853.0       0.937410       0.242226   \n",
              "\n",
              "                                      min         25%         50%         75%  \\\n",
              "id                                    2.0   28640.000   57262.000   85632.000   \n",
              "perc_premium_paid_by_cash_credit      0.0       0.034       0.167       0.538   \n",
              "age_in_days                        7670.0   14974.000   18625.000   22636.000   \n",
              "Income                            24030.0  108010.000  166560.000  252090.000   \n",
              "Count_3-6_months_late                 0.0       0.000       0.000       0.000   \n",
              "Count_6-12_months_late                0.0       0.000       0.000       0.000   \n",
              "Count_more_than_12_months_late        0.0       0.000       0.000       0.000   \n",
              "application_underwriting_score       91.9      98.810      99.210      99.540   \n",
              "no_of_premiums_paid                   2.0       7.000      10.000      14.000   \n",
              "target                                0.0       1.000       1.000       1.000   \n",
              "\n",
              "                                          max  \n",
              "id                                  114076.00  \n",
              "perc_premium_paid_by_cash_credit         1.00  \n",
              "age_in_days                          37602.00  \n",
              "Income                            90262600.00  \n",
              "Count_3-6_months_late                   13.00  \n",
              "Count_6-12_months_late                  17.00  \n",
              "Count_more_than_12_months_late          11.00  \n",
              "application_underwriting_score          99.89  \n",
              "no_of_premiums_paid                     60.00  \n",
              "target                                   1.00  "
            ]
          },
          "metadata": {
            "tags": []
          },
          "execution_count": 6
        }
      ]
    },
    {
      "cell_type": "code",
      "metadata": {
        "colab": {
          "base_uri": "https://localhost:8080/",
          "height": 281
        },
        "id": "BRR5B4AoSGTg",
        "outputId": "7f1c92e8-53ce-4734-ea71-111ca2251d00"
      },
      "source": [
        "train['perc_premium_paid_by_cash_credit'].plot.hist()"
      ],
      "execution_count": 7,
      "outputs": [
        {
          "output_type": "execute_result",
          "data": {
            "text/plain": [
              "<matplotlib.axes._subplots.AxesSubplot at 0x7f7a2e943e50>"
            ]
          },
          "metadata": {
            "tags": []
          },
          "execution_count": 7
        },
        {
          "output_type": "display_data",
          "data": {
            "image/png": "[encoded data removed]",
            "text/plain": [
              "<Figure size 432x288 with 1 Axes>"
            ]
          },
          "metadata": {
            "tags": [],
            "needs_background": "light"
          }
        }
      ]
    },
    {
      "cell_type": "code",
      "metadata": {
        "colab": {
          "base_uri": "https://localhost:8080/",
          "height": 282
        },
        "id": "RWyTwSv3SGQw",
        "outputId": "2e58926d-8e55-4421-964b-c7aa62680a19"
      },
      "source": [
        "train['perc_premium_paid_by_cash_credit'].plot.box()"
      ],
      "execution_count": 8,
      "outputs": [
        {
          "output_type": "execute_result",
          "data": {
            "text/plain": [
              "<matplotlib.axes._subplots.AxesSubplot at 0x7f7a2e839dd0>"
            ]
          },
          "metadata": {
            "tags": []
          },
          "execution_count": 8
        },
        {
          "output_type": "display_data",
          "data": {
            "image/png": "[encoded data removed]",
            "text/plain": [
              "<Figure size 432x288 with 1 Axes>"
            ]
          },
          "metadata": {
            "tags": [],
            "needs_background": "light"
          }
        }
      ]
    },
    {
      "cell_type": "markdown",
      "metadata": {
        "id": "TBgXO0AKWomf"
      },
      "source": [
        "This feature does not have any outlier and its a right skewed, so transforming it using sqrt method as shown below."
      ]
    },
    {
      "cell_type": "code",
      "metadata": {
        "colab": {
          "base_uri": "https://localhost:8080/",
          "height": 283
        },
        "id": "_pWWbsuySGN7",
        "outputId": "b71a1bb0-868a-4c8f-b92f-8fdd8609c33b"
      },
      "source": [
        "np.sqrt(train['perc_premium_paid_by_cash_credit']).plot.hist()"
      ],
      "execution_count": 9,
      "outputs": [
        {
          "output_type": "execute_result",
          "data": {
            "text/plain": [
              "<matplotlib.axes._subplots.AxesSubplot at 0x7f7a2e365b50>"
            ]
          },
          "metadata": {
            "tags": []
          },
          "execution_count": 9
        },
        {
          "output_type": "display_data",
          "data": {
            "image/png": "[encoded data removed]",
            "text/plain": [
              "<Figure size 432x288 with 1 Axes>"
            ]
          },
          "metadata": {
            "tags": [],
            "needs_background": "light"
          }
        }
      ]
    },
    {
      "cell_type": "code",
      "metadata": {
        "colab": {
          "base_uri": "https://localhost:8080/",
          "height": 234
        },
        "id": "qjaHY-GzSGLW",
        "outputId": "5361a8f4-f5f7-41d3-fa58-bc56934635d4"
      },
      "source": [
        "train['perc_premium_paid_by_cash_credit'] = np.sqrt(train['perc_premium_paid_by_cash_credit'])\n",
        "train.head()"
      ],
      "execution_count": 10,
      "outputs": [
        {
          "output_type": "execute_result",
          "data": {
            "text/html": [
              "<div>\n",
              "<style scoped>\n",
              "    .dataframe tbody tr th:only-of-type {\n",
              "        vertical-align: middle;\n",
              "    }\n",
              "\n",
              "    .dataframe tbody tr th {\n",
              "        vertical-align: top;\n",
              "    }\n",
              "\n",
              "    .dataframe thead th {\n",
              "        text-align: right;\n",
              "    }\n",
              "</style>\n",
              "<table border=\"1\" class=\"dataframe\">\n",
              "  <thead>\n",
              "    <tr style=\"text-align: right;\">\n",
              "      <th></th>\n",
              "      <th>id</th>\n",
              "      <th>perc_premium_paid_by_cash_credit</th>\n",
              "      <th>age_in_days</th>\n",
              "      <th>Income</th>\n",
              "      <th>Count_3-6_months_late</th>\n",
              "      <th>Count_6-12_months_late</th>\n",
              "      <th>Count_more_than_12_months_late</th>\n",
              "      <th>application_underwriting_score</th>\n",
              "      <th>no_of_premiums_paid</th>\n",
              "      <th>sourcing_channel</th>\n",
              "      <th>residence_area_type</th>\n",
              "      <th>target</th>\n",
              "    </tr>\n",
              "  </thead>\n",
              "  <tbody>\n",
              "    <tr>\n",
              "      <th>0</th>\n",
              "      <td>110936</td>\n",
              "      <td>0.654981</td>\n",
              "      <td>12058</td>\n",
              "      <td>355060</td>\n",
              "      <td>0.0</td>\n",
              "      <td>0.0</td>\n",
              "      <td>0.0</td>\n",
              "      <td>99.02</td>\n",
              "      <td>13</td>\n",
              "      <td>C</td>\n",
              "      <td>Urban</td>\n",
              "      <td>1</td>\n",
              "    </tr>\n",
              "    <tr>\n",
              "      <th>1</th>\n",
              "      <td>41492</td>\n",
              "      <td>0.100000</td>\n",
              "      <td>21546</td>\n",
              "      <td>315150</td>\n",
              "      <td>0.0</td>\n",
              "      <td>0.0</td>\n",
              "      <td>0.0</td>\n",
              "      <td>99.89</td>\n",
              "      <td>21</td>\n",
              "      <td>A</td>\n",
              "      <td>Urban</td>\n",
              "      <td>1</td>\n",
              "    </tr>\n",
              "    <tr>\n",
              "      <th>2</th>\n",
              "      <td>31300</td>\n",
              "      <td>0.957601</td>\n",
              "      <td>17531</td>\n",
              "      <td>84140</td>\n",
              "      <td>2.0</td>\n",
              "      <td>3.0</td>\n",
              "      <td>1.0</td>\n",
              "      <td>98.69</td>\n",
              "      <td>7</td>\n",
              "      <td>C</td>\n",
              "      <td>Rural</td>\n",
              "      <td>0</td>\n",
              "    </tr>\n",
              "    <tr>\n",
              "      <th>3</th>\n",
              "      <td>19415</td>\n",
              "      <td>0.221359</td>\n",
              "      <td>15341</td>\n",
              "      <td>250510</td>\n",
              "      <td>0.0</td>\n",
              "      <td>0.0</td>\n",
              "      <td>0.0</td>\n",
              "      <td>99.57</td>\n",
              "      <td>9</td>\n",
              "      <td>A</td>\n",
              "      <td>Urban</td>\n",
              "      <td>1</td>\n",
              "    </tr>\n",
              "    <tr>\n",
              "      <th>4</th>\n",
              "      <td>99379</td>\n",
              "      <td>0.228035</td>\n",
              "      <td>31400</td>\n",
              "      <td>198680</td>\n",
              "      <td>0.0</td>\n",
              "      <td>0.0</td>\n",
              "      <td>0.0</td>\n",
              "      <td>99.87</td>\n",
              "      <td>12</td>\n",
              "      <td>B</td>\n",
              "      <td>Urban</td>\n",
              "      <td>1</td>\n",
              "    </tr>\n",
              "  </tbody>\n",
              "</table>\n",
              "</div>"
            ],
            "text/plain": [
              "       id  perc_premium_paid_by_cash_credit  age_in_days  Income  \\\n",
              "0  110936                          0.654981        12058  355060   \n",
              "1   41492                          0.100000        21546  315150   \n",
              "2   31300                          0.957601        17531   84140   \n",
              "3   19415                          0.221359        15341  250510   \n",
              "4   99379                          0.228035        31400  198680   \n",
              "\n",
              "   Count_3-6_months_late  Count_6-12_months_late  \\\n",
              "0                    0.0                     0.0   \n",
              "1                    0.0                     0.0   \n",
              "2                    2.0                     3.0   \n",
              "3                    0.0                     0.0   \n",
              "4                    0.0                     0.0   \n",
              "\n",
              "   Count_more_than_12_months_late  application_underwriting_score  \\\n",
              "0                             0.0                           99.02   \n",
              "1                             0.0                           99.89   \n",
              "2                             1.0                           98.69   \n",
              "3                             0.0                           99.57   \n",
              "4                             0.0                           99.87   \n",
              "\n",
              "   no_of_premiums_paid sourcing_channel residence_area_type  target  \n",
              "0                   13                C               Urban       1  \n",
              "1                   21                A               Urban       1  \n",
              "2                    7                C               Rural       0  \n",
              "3                    9                A               Urban       1  \n",
              "4                   12                B               Urban       1  "
            ]
          },
          "metadata": {
            "tags": []
          },
          "execution_count": 10
        }
      ]
    },
    {
      "cell_type": "code",
      "metadata": {
        "colab": {
          "base_uri": "https://localhost:8080/",
          "height": 281
        },
        "id": "fOMNcnM2SGIK",
        "outputId": "8bddee62-8041-4a80-c8ef-9f112f0aa96a"
      },
      "source": [
        "train['age_in_days'].plot.hist()"
      ],
      "execution_count": 11,
      "outputs": [
        {
          "output_type": "execute_result",
          "data": {
            "text/plain": [
              "<matplotlib.axes._subplots.AxesSubplot at 0x7f7a2e2e0950>"
            ]
          },
          "metadata": {
            "tags": []
          },
          "execution_count": 11
        },
        {
          "output_type": "display_data",
          "data": {
            "image/png": "[encoded data removed]",
            "text/plain": [
              "<Figure size 432x288 with 1 Axes>"
            ]
          },
          "metadata": {
            "tags": [],
            "needs_background": "light"
          }
        }
      ]
    },
    {
      "cell_type": "code",
      "metadata": {
        "colab": {
          "base_uri": "https://localhost:8080/",
          "height": 282
        },
        "id": "MWUDMVhwSGEt",
        "outputId": "4f8c3edb-758f-42a2-b115-5c391d5a9eed"
      },
      "source": [
        "train['age_in_days'].plot.box()"
      ],
      "execution_count": 12,
      "outputs": [
        {
          "output_type": "execute_result",
          "data": {
            "text/plain": [
              "<matplotlib.axes._subplots.AxesSubplot at 0x7f7a2e2d4bd0>"
            ]
          },
          "metadata": {
            "tags": []
          },
          "execution_count": 12
        },
        {
          "output_type": "display_data",
          "data": {
            "image/png": "[encoded data removed]",
            "text/plain": [
              "<Figure size 432x288 with 1 Axes>"
            ]
          },
          "metadata": {
            "tags": [],
            "needs_background": "light"
          }
        }
      ]
    },
    {
      "cell_type": "code",
      "metadata": {
        "colab": {
          "base_uri": "https://localhost:8080/",
          "height": 297
        },
        "id": "vVAi69THYL3R",
        "outputId": "bfba066f-ffe4-414c-be98-fb095c255e2c"
      },
      "source": [
        "train.plot.scatter('age_in_days', 'target')"
      ],
      "execution_count": 13,
      "outputs": [
        {
          "output_type": "execute_result",
          "data": {
            "text/plain": [
              "<matplotlib.axes._subplots.AxesSubplot at 0x7f7a2e1ed890>"
            ]
          },
          "metadata": {
            "tags": []
          },
          "execution_count": 13
        },
        {
          "output_type": "display_data",
          "data": {
            "image/png": "[encoded data removed]",
            "text/plain": [
              "<Figure size 432x288 with 1 Axes>"
            ]
          },
          "metadata": {
            "tags": [],
            "needs_background": "light"
          }
        }
      ]
    },
    {
      "cell_type": "markdown",
      "metadata": {
        "id": "qt_Up4PkXX4N"
      },
      "source": [
        "There seems to be that there are people who are older than 100 years in the feature. And people in this age usually do not pay premium for the insurance, instead are the ones who uses their insurance at this age. The peercentage of these people are quite few, as it can be seen that there are 20 such people who has their ages very close to 100 years.\n",
        "\n",
        "The graph also seems to be normally distributed with some outliers. "
      ]
    },
    {
      "cell_type": "code",
      "metadata": {
        "colab": {
          "base_uri": "https://localhost:8080/",
          "height": 234
        },
        "id": "kXAEedBESGAc",
        "outputId": "2dd84ff0-cb2b-4073-abae-07a0a626121b"
      },
      "source": [
        "# replacing the outliers having values greater than 30000 (80years) with the mean value\n",
        "train.loc[train['age_in_days']>30000, 'age_in_days'] = np.mean(train['age_in_days'])\n",
        "train.head()"
      ],
      "execution_count": 14,
      "outputs": [
        {
          "output_type": "execute_result",
          "data": {
            "text/html": [
              "<div>\n",
              "<style scoped>\n",
              "    .dataframe tbody tr th:only-of-type {\n",
              "        vertical-align: middle;\n",
              "    }\n",
              "\n",
              "    .dataframe tbody tr th {\n",
              "        vertical-align: top;\n",
              "    }\n",
              "\n",
              "    .dataframe thead th {\n",
              "        text-align: right;\n",
              "    }\n",
              "</style>\n",
              "<table border=\"1\" class=\"dataframe\">\n",
              "  <thead>\n",
              "    <tr style=\"text-align: right;\">\n",
              "      <th></th>\n",
              "      <th>id</th>\n",
              "      <th>perc_premium_paid_by_cash_credit</th>\n",
              "      <th>age_in_days</th>\n",
              "      <th>Income</th>\n",
              "      <th>Count_3-6_months_late</th>\n",
              "      <th>Count_6-12_months_late</th>\n",
              "      <th>Count_more_than_12_months_late</th>\n",
              "      <th>application_underwriting_score</th>\n",
              "      <th>no_of_premiums_paid</th>\n",
              "      <th>sourcing_channel</th>\n",
              "      <th>residence_area_type</th>\n",
              "      <th>target</th>\n",
              "    </tr>\n",
              "  </thead>\n",
              "  <tbody>\n",
              "    <tr>\n",
              "      <th>0</th>\n",
              "      <td>110936</td>\n",
              "      <td>0.654981</td>\n",
              "      <td>12058.000000</td>\n",
              "      <td>355060</td>\n",
              "      <td>0.0</td>\n",
              "      <td>0.0</td>\n",
              "      <td>0.0</td>\n",
              "      <td>99.02</td>\n",
              "      <td>13</td>\n",
              "      <td>C</td>\n",
              "      <td>Urban</td>\n",
              "      <td>1</td>\n",
              "    </tr>\n",
              "    <tr>\n",
              "      <th>1</th>\n",
              "      <td>41492</td>\n",
              "      <td>0.100000</td>\n",
              "      <td>21546.000000</td>\n",
              "      <td>315150</td>\n",
              "      <td>0.0</td>\n",
              "      <td>0.0</td>\n",
              "      <td>0.0</td>\n",
              "      <td>99.89</td>\n",
              "      <td>21</td>\n",
              "      <td>A</td>\n",
              "      <td>Urban</td>\n",
              "      <td>1</td>\n",
              "    </tr>\n",
              "    <tr>\n",
              "      <th>2</th>\n",
              "      <td>31300</td>\n",
              "      <td>0.957601</td>\n",
              "      <td>17531.000000</td>\n",
              "      <td>84140</td>\n",
              "      <td>2.0</td>\n",
              "      <td>3.0</td>\n",
              "      <td>1.0</td>\n",
              "      <td>98.69</td>\n",
              "      <td>7</td>\n",
              "      <td>C</td>\n",
              "      <td>Rural</td>\n",
              "      <td>0</td>\n",
              "    </tr>\n",
              "    <tr>\n",
              "      <th>3</th>\n",
              "      <td>19415</td>\n",
              "      <td>0.221359</td>\n",
              "      <td>15341.000000</td>\n",
              "      <td>250510</td>\n",
              "      <td>0.0</td>\n",
              "      <td>0.0</td>\n",
              "      <td>0.0</td>\n",
              "      <td>99.57</td>\n",
              "      <td>9</td>\n",
              "      <td>A</td>\n",
              "      <td>Urban</td>\n",
              "      <td>1</td>\n",
              "    </tr>\n",
              "    <tr>\n",
              "      <th>4</th>\n",
              "      <td>99379</td>\n",
              "      <td>0.228035</td>\n",
              "      <td>18846.696906</td>\n",
              "      <td>198680</td>\n",
              "      <td>0.0</td>\n",
              "      <td>0.0</td>\n",
              "      <td>0.0</td>\n",
              "      <td>99.87</td>\n",
              "      <td>12</td>\n",
              "      <td>B</td>\n",
              "      <td>Urban</td>\n",
              "      <td>1</td>\n",
              "    </tr>\n",
              "  </tbody>\n",
              "</table>\n",
              "</div>"
            ],
            "text/plain": [
              "       id  perc_premium_paid_by_cash_credit   age_in_days  Income  \\\n",
              "0  110936                          0.654981  12058.000000  355060   \n",
              "1   41492                          0.100000  21546.000000  315150   \n",
              "2   31300                          0.957601  17531.000000   84140   \n",
              "3   19415                          0.221359  15341.000000  250510   \n",
              "4   99379                          0.228035  18846.696906  198680   \n",
              "\n",
              "   Count_3-6_months_late  Count_6-12_months_late  \\\n",
              "0                    0.0                     0.0   \n",
              "1                    0.0                     0.0   \n",
              "2                    2.0                     3.0   \n",
              "3                    0.0                     0.0   \n",
              "4                    0.0                     0.0   \n",
              "\n",
              "   Count_more_than_12_months_late  application_underwriting_score  \\\n",
              "0                             0.0                           99.02   \n",
              "1                             0.0                           99.89   \n",
              "2                             1.0                           98.69   \n",
              "3                             0.0                           99.57   \n",
              "4                             0.0                           99.87   \n",
              "\n",
              "   no_of_premiums_paid sourcing_channel residence_area_type  target  \n",
              "0                   13                C               Urban       1  \n",
              "1                   21                A               Urban       1  \n",
              "2                    7                C               Rural       0  \n",
              "3                    9                A               Urban       1  \n",
              "4                   12                B               Urban       1  "
            ]
          },
          "metadata": {
            "tags": []
          },
          "execution_count": 14
        }
      ]
    },
    {
      "cell_type": "code",
      "metadata": {
        "colab": {
          "base_uri": "https://localhost:8080/",
          "height": 282
        },
        "id": "DcsyQWW_SF7D",
        "outputId": "0d3d9784-13ec-4ea9-e9e4-22dab5bb52d9"
      },
      "source": [
        "train['age_in_days'].plot.box()"
      ],
      "execution_count": 15,
      "outputs": [
        {
          "output_type": "execute_result",
          "data": {
            "text/plain": [
              "<matplotlib.axes._subplots.AxesSubplot at 0x7f7a2deecfd0>"
            ]
          },
          "metadata": {
            "tags": []
          },
          "execution_count": 15
        },
        {
          "output_type": "display_data",
          "data": {
            "image/png": "[encoded data removed]",
            "text/plain": [
              "<Figure size 432x288 with 1 Axes>"
            ]
          },
          "metadata": {
            "tags": [],
            "needs_background": "light"
          }
        }
      ]
    },
    {
      "cell_type": "code",
      "metadata": {
        "colab": {
          "base_uri": "https://localhost:8080/",
          "height": 281
        },
        "id": "tO32dgMjSF1b",
        "outputId": "628e9943-b3b4-4c9f-94c7-af135860f196"
      },
      "source": [
        "train['age_in_days'].plot.hist()"
      ],
      "execution_count": 16,
      "outputs": [
        {
          "output_type": "execute_result",
          "data": {
            "text/plain": [
              "<matplotlib.axes._subplots.AxesSubplot at 0x7f7a2d654690>"
            ]
          },
          "metadata": {
            "tags": []
          },
          "execution_count": 16
        },
        {
          "output_type": "display_data",
          "data": {
            "image/png": "[encoded data removed]",
            "text/plain": [
              "<Figure size 432x288 with 1 Axes>"
            ]
          },
          "metadata": {
            "tags": [],
            "needs_background": "light"
          }
        }
      ]
    },
    {
      "cell_type": "code",
      "metadata": {
        "colab": {
          "base_uri": "https://localhost:8080/",
          "height": 295
        },
        "id": "9ye8skmpSFwE",
        "outputId": "d3e2fdf4-6293-4c2d-f496-871190b9bb57"
      },
      "source": [
        "train['Income'].plot.hist()"
      ],
      "execution_count": 17,
      "outputs": [
        {
          "output_type": "execute_result",
          "data": {
            "text/plain": [
              "<matplotlib.axes._subplots.AxesSubplot at 0x7f7a2d5d9f10>"
            ]
          },
          "metadata": {
            "tags": []
          },
          "execution_count": 17
        },
        {
          "output_type": "display_data",
          "data": {
            "image/png": "[encoded data removed]",
            "text/plain": [
              "<Figure size 432x288 with 1 Axes>"
            ]
          },
          "metadata": {
            "tags": [],
            "needs_background": "light"
          }
        }
      ]
    },
    {
      "cell_type": "code",
      "metadata": {
        "colab": {
          "base_uri": "https://localhost:8080/",
          "height": 293
        },
        "id": "k0RaUHSeSFpH",
        "outputId": "c0da96c8-1d51-492b-9eca-03e14bc6c2fa"
      },
      "source": [
        "train.Income.plot.box()"
      ],
      "execution_count": 18,
      "outputs": [
        {
          "output_type": "execute_result",
          "data": {
            "text/plain": [
              "<matplotlib.axes._subplots.AxesSubplot at 0x7f7a2d56b610>"
            ]
          },
          "metadata": {
            "tags": []
          },
          "execution_count": 18
        },
        {
          "output_type": "display_data",
          "data": {
            "image/png": "[encoded data removed]",
            "text/plain": [
              "<Figure size 432x288 with 1 Axes>"
            ]
          },
          "metadata": {
            "tags": [],
            "needs_background": "light"
          }
        }
      ]
    },
    {
      "cell_type": "code",
      "metadata": {
        "colab": {
          "base_uri": "https://localhost:8080/",
          "height": 283
        },
        "id": "-N3lMZukSFjM",
        "outputId": "1fbce8e2-7eff-4a37-8f7e-3f7e6c617053"
      },
      "source": [
        "np.log(train['Income']).plot.hist()"
      ],
      "execution_count": 19,
      "outputs": [
        {
          "output_type": "execute_result",
          "data": {
            "text/plain": [
              "<matplotlib.axes._subplots.AxesSubplot at 0x7f7a2d545750>"
            ]
          },
          "metadata": {
            "tags": []
          },
          "execution_count": 19
        },
        {
          "output_type": "display_data",
          "data": {
            "image/png": "[encoded data removed]",
            "text/plain": [
              "<Figure size 432x288 with 1 Axes>"
            ]
          },
          "metadata": {
            "tags": [],
            "needs_background": "light"
          }
        }
      ]
    },
    {
      "cell_type": "code",
      "metadata": {
        "colab": {
          "base_uri": "https://localhost:8080/",
          "height": 234
        },
        "id": "YH3tU1l0SFNe",
        "outputId": "346a481c-baaf-48b4-d61c-239b074910bb"
      },
      "source": [
        "train['Income'] = np.log(train['Income'])\n",
        "train.head()"
      ],
      "execution_count": 20,
      "outputs": [
        {
          "output_type": "execute_result",
          "data": {
            "text/html": [
              "<div>\n",
              "<style scoped>\n",
              "    .dataframe tbody tr th:only-of-type {\n",
              "        vertical-align: middle;\n",
              "    }\n",
              "\n",
              "    .dataframe tbody tr th {\n",
              "        vertical-align: top;\n",
              "    }\n",
              "\n",
              "    .dataframe thead th {\n",
              "        text-align: right;\n",
              "    }\n",
              "</style>\n",
              "<table border=\"1\" class=\"dataframe\">\n",
              "  <thead>\n",
              "    <tr style=\"text-align: right;\">\n",
              "      <th></th>\n",
              "      <th>id</th>\n",
              "      <th>perc_premium_paid_by_cash_credit</th>\n",
              "      <th>age_in_days</th>\n",
              "      <th>Income</th>\n",
              "      <th>Count_3-6_months_late</th>\n",
              "      <th>Count_6-12_months_late</th>\n",
              "      <th>Count_more_than_12_months_late</th>\n",
              "      <th>application_underwriting_score</th>\n",
              "      <th>no_of_premiums_paid</th>\n",
              "      <th>sourcing_channel</th>\n",
              "      <th>residence_area_type</th>\n",
              "      <th>target</th>\n",
              "    </tr>\n",
              "  </thead>\n",
              "  <tbody>\n",
              "    <tr>\n",
              "      <th>0</th>\n",
              "      <td>110936</td>\n",
              "      <td>0.654981</td>\n",
              "      <td>12058.000000</td>\n",
              "      <td>12.780042</td>\n",
              "      <td>0.0</td>\n",
              "      <td>0.0</td>\n",
              "      <td>0.0</td>\n",
              "      <td>99.02</td>\n",
              "      <td>13</td>\n",
              "      <td>C</td>\n",
              "      <td>Urban</td>\n",
              "      <td>1</td>\n",
              "    </tr>\n",
              "    <tr>\n",
              "      <th>1</th>\n",
              "      <td>41492</td>\n",
              "      <td>0.100000</td>\n",
              "      <td>21546.000000</td>\n",
              "      <td>12.660804</td>\n",
              "      <td>0.0</td>\n",
              "      <td>0.0</td>\n",
              "      <td>0.0</td>\n",
              "      <td>99.89</td>\n",
              "      <td>21</td>\n",
              "      <td>A</td>\n",
              "      <td>Urban</td>\n",
              "      <td>1</td>\n",
              "    </tr>\n",
              "    <tr>\n",
              "      <th>2</th>\n",
              "      <td>31300</td>\n",
              "      <td>0.957601</td>\n",
              "      <td>17531.000000</td>\n",
              "      <td>11.340237</td>\n",
              "      <td>2.0</td>\n",
              "      <td>3.0</td>\n",
              "      <td>1.0</td>\n",
              "      <td>98.69</td>\n",
              "      <td>7</td>\n",
              "      <td>C</td>\n",
              "      <td>Rural</td>\n",
              "      <td>0</td>\n",
              "    </tr>\n",
              "    <tr>\n",
              "      <th>3</th>\n",
              "      <td>19415</td>\n",
              "      <td>0.221359</td>\n",
              "      <td>15341.000000</td>\n",
              "      <td>12.431254</td>\n",
              "      <td>0.0</td>\n",
              "      <td>0.0</td>\n",
              "      <td>0.0</td>\n",
              "      <td>99.57</td>\n",
              "      <td>9</td>\n",
              "      <td>A</td>\n",
              "      <td>Urban</td>\n",
              "      <td>1</td>\n",
              "    </tr>\n",
              "    <tr>\n",
              "      <th>4</th>\n",
              "      <td>99379</td>\n",
              "      <td>0.228035</td>\n",
              "      <td>18846.696906</td>\n",
              "      <td>12.199451</td>\n",
              "      <td>0.0</td>\n",
              "      <td>0.0</td>\n",
              "      <td>0.0</td>\n",
              "      <td>99.87</td>\n",
              "      <td>12</td>\n",
              "      <td>B</td>\n",
              "      <td>Urban</td>\n",
              "      <td>1</td>\n",
              "    </tr>\n",
              "  </tbody>\n",
              "</table>\n",
              "</div>"
            ],
            "text/plain": [
              "       id  perc_premium_paid_by_cash_credit   age_in_days     Income  \\\n",
              "0  110936                          0.654981  12058.000000  12.780042   \n",
              "1   41492                          0.100000  21546.000000  12.660804   \n",
              "2   31300                          0.957601  17531.000000  11.340237   \n",
              "3   19415                          0.221359  15341.000000  12.431254   \n",
              "4   99379                          0.228035  18846.696906  12.199451   \n",
              "\n",
              "   Count_3-6_months_late  Count_6-12_months_late  \\\n",
              "0                    0.0                     0.0   \n",
              "1                    0.0                     0.0   \n",
              "2                    2.0                     3.0   \n",
              "3                    0.0                     0.0   \n",
              "4                    0.0                     0.0   \n",
              "\n",
              "   Count_more_than_12_months_late  application_underwriting_score  \\\n",
              "0                             0.0                           99.02   \n",
              "1                             0.0                           99.89   \n",
              "2                             1.0                           98.69   \n",
              "3                             0.0                           99.57   \n",
              "4                             0.0                           99.87   \n",
              "\n",
              "   no_of_premiums_paid sourcing_channel residence_area_type  target  \n",
              "0                   13                C               Urban       1  \n",
              "1                   21                A               Urban       1  \n",
              "2                    7                C               Rural       0  \n",
              "3                    9                A               Urban       1  \n",
              "4                   12                B               Urban       1  "
            ]
          },
          "metadata": {
            "tags": []
          },
          "execution_count": 20
        }
      ]
    },
    {
      "cell_type": "code",
      "metadata": {
        "colab": {
          "base_uri": "https://localhost:8080/",
          "height": 281
        },
        "id": "bHW0jR5uayjj",
        "outputId": "c1137a48-7db3-438d-b5a2-3a2fcb7be507"
      },
      "source": [
        "train.Income.plot.box()"
      ],
      "execution_count": 21,
      "outputs": [
        {
          "output_type": "execute_result",
          "data": {
            "text/plain": [
              "<matplotlib.axes._subplots.AxesSubplot at 0x7f7a2d465950>"
            ]
          },
          "metadata": {
            "tags": []
          },
          "execution_count": 21
        },
        {
          "output_type": "display_data",
          "data": {
            "image/png": "[encoded data removed]",
            "text/plain": [
              "<Figure size 432x288 with 1 Axes>"
            ]
          },
          "metadata": {
            "tags": [],
            "needs_background": "light"
          }
        }
      ]
    },
    {
      "cell_type": "code",
      "metadata": {
        "colab": {
          "base_uri": "https://localhost:8080/",
          "height": 473
        },
        "id": "1o6HjC27ayhW",
        "outputId": "029266ea-0f17-4604-d790-61b25d9efec2"
      },
      "source": [
        "train[train['Income']>= 16]"
      ],
      "execution_count": 22,
      "outputs": [
        {
          "output_type": "execute_result",
          "data": {
            "text/html": [
              "<div>\n",
              "<style scoped>\n",
              "    .dataframe tbody tr th:only-of-type {\n",
              "        vertical-align: middle;\n",
              "    }\n",
              "\n",
              "    .dataframe tbody tr th {\n",
              "        vertical-align: top;\n",
              "    }\n",
              "\n",
              "    .dataframe thead th {\n",
              "        text-align: right;\n",
              "    }\n",
              "</style>\n",
              "<table border=\"1\" class=\"dataframe\">\n",
              "  <thead>\n",
              "    <tr style=\"text-align: right;\">\n",
              "      <th></th>\n",
              "      <th>id</th>\n",
              "      <th>perc_premium_paid_by_cash_credit</th>\n",
              "      <th>age_in_days</th>\n",
              "      <th>Income</th>\n",
              "      <th>Count_3-6_months_late</th>\n",
              "      <th>Count_6-12_months_late</th>\n",
              "      <th>Count_more_than_12_months_late</th>\n",
              "      <th>application_underwriting_score</th>\n",
              "      <th>no_of_premiums_paid</th>\n",
              "      <th>sourcing_channel</th>\n",
              "      <th>residence_area_type</th>\n",
              "      <th>target</th>\n",
              "    </tr>\n",
              "  </thead>\n",
              "  <tbody>\n",
              "    <tr>\n",
              "      <th>4414</th>\n",
              "      <td>101234</td>\n",
              "      <td>0.530094</td>\n",
              "      <td>18623.0</td>\n",
              "      <td>16.089707</td>\n",
              "      <td>0.0</td>\n",
              "      <td>0.0</td>\n",
              "      <td>0.0</td>\n",
              "      <td>99.49</td>\n",
              "      <td>29</td>\n",
              "      <td>A</td>\n",
              "      <td>Urban</td>\n",
              "      <td>1</td>\n",
              "    </tr>\n",
              "    <tr>\n",
              "      <th>4713</th>\n",
              "      <td>74741</td>\n",
              "      <td>0.000000</td>\n",
              "      <td>24828.0</td>\n",
              "      <td>17.801191</td>\n",
              "      <td>0.0</td>\n",
              "      <td>0.0</td>\n",
              "      <td>0.0</td>\n",
              "      <td>99.89</td>\n",
              "      <td>17</td>\n",
              "      <td>A</td>\n",
              "      <td>Urban</td>\n",
              "      <td>1</td>\n",
              "    </tr>\n",
              "    <tr>\n",
              "      <th>6007</th>\n",
              "      <td>11580</td>\n",
              "      <td>0.404969</td>\n",
              "      <td>16070.0</td>\n",
              "      <td>17.661461</td>\n",
              "      <td>0.0</td>\n",
              "      <td>0.0</td>\n",
              "      <td>0.0</td>\n",
              "      <td>99.89</td>\n",
              "      <td>14</td>\n",
              "      <td>C</td>\n",
              "      <td>Urban</td>\n",
              "      <td>1</td>\n",
              "    </tr>\n",
              "    <tr>\n",
              "      <th>6971</th>\n",
              "      <td>6552</td>\n",
              "      <td>0.083666</td>\n",
              "      <td>18991.0</td>\n",
              "      <td>18.318234</td>\n",
              "      <td>0.0</td>\n",
              "      <td>0.0</td>\n",
              "      <td>0.0</td>\n",
              "      <td>NaN</td>\n",
              "      <td>12</td>\n",
              "      <td>D</td>\n",
              "      <td>Urban</td>\n",
              "      <td>1</td>\n",
              "    </tr>\n",
              "    <tr>\n",
              "      <th>11298</th>\n",
              "      <td>60042</td>\n",
              "      <td>0.419524</td>\n",
              "      <td>16065.0</td>\n",
              "      <td>16.321046</td>\n",
              "      <td>0.0</td>\n",
              "      <td>0.0</td>\n",
              "      <td>0.0</td>\n",
              "      <td>99.84</td>\n",
              "      <td>8</td>\n",
              "      <td>D</td>\n",
              "      <td>Urban</td>\n",
              "      <td>1</td>\n",
              "    </tr>\n",
              "    <tr>\n",
              "      <th>18507</th>\n",
              "      <td>15041</td>\n",
              "      <td>0.282843</td>\n",
              "      <td>22272.0</td>\n",
              "      <td>16.641285</td>\n",
              "      <td>0.0</td>\n",
              "      <td>0.0</td>\n",
              "      <td>0.0</td>\n",
              "      <td>NaN</td>\n",
              "      <td>9</td>\n",
              "      <td>B</td>\n",
              "      <td>Rural</td>\n",
              "      <td>1</td>\n",
              "    </tr>\n",
              "    <tr>\n",
              "      <th>19764</th>\n",
              "      <td>111295</td>\n",
              "      <td>0.077460</td>\n",
              "      <td>16437.0</td>\n",
              "      <td>16.025984</td>\n",
              "      <td>0.0</td>\n",
              "      <td>0.0</td>\n",
              "      <td>0.0</td>\n",
              "      <td>99.60</td>\n",
              "      <td>20</td>\n",
              "      <td>A</td>\n",
              "      <td>Urban</td>\n",
              "      <td>1</td>\n",
              "    </tr>\n",
              "    <tr>\n",
              "      <th>33901</th>\n",
              "      <td>41053</td>\n",
              "      <td>0.268328</td>\n",
              "      <td>18256.0</td>\n",
              "      <td>16.863604</td>\n",
              "      <td>0.0</td>\n",
              "      <td>0.0</td>\n",
              "      <td>0.0</td>\n",
              "      <td>99.88</td>\n",
              "      <td>14</td>\n",
              "      <td>C</td>\n",
              "      <td>Rural</td>\n",
              "      <td>1</td>\n",
              "    </tr>\n",
              "    <tr>\n",
              "      <th>42852</th>\n",
              "      <td>71969</td>\n",
              "      <td>0.189737</td>\n",
              "      <td>15707.0</td>\n",
              "      <td>16.368664</td>\n",
              "      <td>0.0</td>\n",
              "      <td>0.0</td>\n",
              "      <td>0.0</td>\n",
              "      <td>99.89</td>\n",
              "      <td>15</td>\n",
              "      <td>B</td>\n",
              "      <td>Rural</td>\n",
              "      <td>1</td>\n",
              "    </tr>\n",
              "    <tr>\n",
              "      <th>50282</th>\n",
              "      <td>112928</td>\n",
              "      <td>0.684836</td>\n",
              "      <td>16072.0</td>\n",
              "      <td>17.286703</td>\n",
              "      <td>1.0</td>\n",
              "      <td>0.0</td>\n",
              "      <td>0.0</td>\n",
              "      <td>99.89</td>\n",
              "      <td>11</td>\n",
              "      <td>B</td>\n",
              "      <td>Rural</td>\n",
              "      <td>1</td>\n",
              "    </tr>\n",
              "    <tr>\n",
              "      <th>55448</th>\n",
              "      <td>107447</td>\n",
              "      <td>0.204939</td>\n",
              "      <td>20086.0</td>\n",
              "      <td>17.036434</td>\n",
              "      <td>0.0</td>\n",
              "      <td>0.0</td>\n",
              "      <td>0.0</td>\n",
              "      <td>NaN</td>\n",
              "      <td>10</td>\n",
              "      <td>A</td>\n",
              "      <td>Urban</td>\n",
              "      <td>1</td>\n",
              "    </tr>\n",
              "    <tr>\n",
              "      <th>58587</th>\n",
              "      <td>65152</td>\n",
              "      <td>0.252982</td>\n",
              "      <td>18993.0</td>\n",
              "      <td>16.859368</td>\n",
              "      <td>0.0</td>\n",
              "      <td>0.0</td>\n",
              "      <td>0.0</td>\n",
              "      <td>99.89</td>\n",
              "      <td>13</td>\n",
              "      <td>B</td>\n",
              "      <td>Urban</td>\n",
              "      <td>1</td>\n",
              "    </tr>\n",
              "    <tr>\n",
              "      <th>62243</th>\n",
              "      <td>6099</td>\n",
              "      <td>0.663325</td>\n",
              "      <td>23365.0</td>\n",
              "      <td>16.676065</td>\n",
              "      <td>0.0</td>\n",
              "      <td>0.0</td>\n",
              "      <td>0.0</td>\n",
              "      <td>99.89</td>\n",
              "      <td>13</td>\n",
              "      <td>B</td>\n",
              "      <td>Rural</td>\n",
              "      <td>1</td>\n",
              "    </tr>\n",
              "  </tbody>\n",
              "</table>\n",
              "</div>"
            ],
            "text/plain": [
              "           id  perc_premium_paid_by_cash_credit  age_in_days     Income  \\\n",
              "4414   101234                          0.530094      18623.0  16.089707   \n",
              "4713    74741                          0.000000      24828.0  17.801191   \n",
              "6007    11580                          0.404969      16070.0  17.661461   \n",
              "6971     6552                          0.083666      18991.0  18.318234   \n",
              "11298   60042                          0.419524      16065.0  16.321046   \n",
              "18507   15041                          0.282843      22272.0  16.641285   \n",
              "19764  111295                          0.077460      16437.0  16.025984   \n",
              "33901   41053                          0.268328      18256.0  16.863604   \n",
              "42852   71969                          0.189737      15707.0  16.368664   \n",
              "50282  112928                          0.684836      16072.0  17.286703   \n",
              "55448  107447                          0.204939      20086.0  17.036434   \n",
              "58587   65152                          0.252982      18993.0  16.859368   \n",
              "62243    6099                          0.663325      23365.0  16.676065   \n",
              "\n",
              "       Count_3-6_months_late  Count_6-12_months_late  \\\n",
              "4414                     0.0                     0.0   \n",
              "4713                     0.0                     0.0   \n",
              "6007                     0.0                     0.0   \n",
              "6971                     0.0                     0.0   \n",
              "11298                    0.0                     0.0   \n",
              "18507                    0.0                     0.0   \n",
              "19764                    0.0                     0.0   \n",
              "33901                    0.0                     0.0   \n",
              "42852                    0.0                     0.0   \n",
              "50282                    1.0                     0.0   \n",
              "55448                    0.0                     0.0   \n",
              "58587                    0.0                     0.0   \n",
              "62243                    0.0                     0.0   \n",
              "\n",
              "       Count_more_than_12_months_late  application_underwriting_score  \\\n",
              "4414                              0.0                           99.49   \n",
              "4713                              0.0                           99.89   \n",
              "6007                              0.0                           99.89   \n",
              "6971                              0.0                             NaN   \n",
              "11298                             0.0                           99.84   \n",
              "18507                             0.0                             NaN   \n",
              "19764                             0.0                           99.60   \n",
              "33901                             0.0                           99.88   \n",
              "42852                             0.0                           99.89   \n",
              "50282                             0.0                           99.89   \n",
              "55448                             0.0                             NaN   \n",
              "58587                             0.0                           99.89   \n",
              "62243                             0.0                           99.89   \n",
              "\n",
              "       no_of_premiums_paid sourcing_channel residence_area_type  target  \n",
              "4414                    29                A               Urban       1  \n",
              "4713                    17                A               Urban       1  \n",
              "6007                    14                C               Urban       1  \n",
              "6971                    12                D               Urban       1  \n",
              "11298                    8                D               Urban       1  \n",
              "18507                    9                B               Rural       1  \n",
              "19764                   20                A               Urban       1  \n",
              "33901                   14                C               Rural       1  \n",
              "42852                   15                B               Rural       1  \n",
              "50282                   11                B               Rural       1  \n",
              "55448                   10                A               Urban       1  \n",
              "58587                   13                B               Urban       1  \n",
              "62243                   13                B               Rural       1  "
            ]
          },
          "metadata": {
            "tags": []
          },
          "execution_count": 22
        }
      ]
    },
    {
      "cell_type": "markdown",
      "metadata": {
        "id": "dm1voJq5cqt4"
      },
      "source": [
        "For now, letting the outliers in Income feature to be as it is, coz Income in real life do tend to follow in such a fashion, if I replace the outliers then there are schances that I might be following income equality principle, which is not correct in the current context."
      ]
    },
    {
      "cell_type": "code",
      "metadata": {
        "colab": {
          "base_uri": "https://localhost:8080/",
          "height": 281
        },
        "id": "lgnem2A2ayeS",
        "outputId": "5cdd1f1d-047f-4794-de09-72c6e5413ed4"
      },
      "source": [
        "train['Count_3-6_months_late'].plot.hist()"
      ],
      "execution_count": 23,
      "outputs": [
        {
          "output_type": "execute_result",
          "data": {
            "text/plain": [
              "<matplotlib.axes._subplots.AxesSubplot at 0x7f7a2d438950>"
            ]
          },
          "metadata": {
            "tags": []
          },
          "execution_count": 23
        },
        {
          "output_type": "display_data",
          "data": {
            "image/png": "[encoded data removed]",
            "text/plain": [
              "<Figure size 432x288 with 1 Axes>"
            ]
          },
          "metadata": {
            "tags": [],
            "needs_background": "light"
          }
        }
      ]
    },
    {
      "cell_type": "code",
      "metadata": {
        "colab": {
          "base_uri": "https://localhost:8080/",
          "height": 282
        },
        "id": "hWtFY_2Bayb1",
        "outputId": "7158110b-e8b3-4716-8b48-5c42f3d0eb5b"
      },
      "source": [
        "train['Count_3-6_months_late'].plot.box()"
      ],
      "execution_count": 24,
      "outputs": [
        {
          "output_type": "execute_result",
          "data": {
            "text/plain": [
              "<matplotlib.axes._subplots.AxesSubplot at 0x7f7a2d349c90>"
            ]
          },
          "metadata": {
            "tags": []
          },
          "execution_count": 24
        },
        {
          "output_type": "display_data",
          "data": {
            "image/png": "[encoded data removed]",
            "text/plain": [
              "<Figure size 432x288 with 1 Axes>"
            ]
          },
          "metadata": {
            "tags": [],
            "needs_background": "light"
          }
        }
      ]
    },
    {
      "cell_type": "code",
      "metadata": {
        "colab": {
          "base_uri": "https://localhost:8080/"
        },
        "id": "90z9Lbpxd-5j",
        "outputId": "27c6ff87-6cae-4800-f51b-59756b2e7bb7"
      },
      "source": [
        "train['Count_3-6_months_late'].value_counts()"
      ],
      "execution_count": 25,
      "outputs": [
        {
          "output_type": "execute_result",
          "data": {
            "text/plain": [
              "0.0     66801\n",
              "1.0      8826\n",
              "2.0      2519\n",
              "3.0       954\n",
              "4.0       374\n",
              "5.0       168\n",
              "6.0        68\n",
              "7.0        23\n",
              "8.0        15\n",
              "9.0         4\n",
              "11.0        1\n",
              "12.0        1\n",
              "13.0        1\n",
              "10.0        1\n",
              "Name: Count_3-6_months_late, dtype: int64"
            ]
          },
          "metadata": {
            "tags": []
          },
          "execution_count": 25
        }
      ]
    },
    {
      "cell_type": "code",
      "metadata": {
        "colab": {
          "base_uri": "https://localhost:8080/"
        },
        "id": "6IE_Uc6Xm90o",
        "outputId": "3bb0b2a1-411d-40c2-9fc8-18c4bad94f83"
      },
      "source": [
        "train['Count_6-12_months_late'].value_counts()"
      ],
      "execution_count": 26,
      "outputs": [
        {
          "output_type": "execute_result",
          "data": {
            "text/plain": [
              "0.0     75831\n",
              "1.0      2680\n",
              "2.0       693\n",
              "3.0       317\n",
              "4.0       130\n",
              "5.0        46\n",
              "6.0        26\n",
              "7.0        11\n",
              "8.0         5\n",
              "10.0        4\n",
              "9.0         4\n",
              "14.0        2\n",
              "11.0        2\n",
              "13.0        2\n",
              "17.0        1\n",
              "12.0        1\n",
              "15.0        1\n",
              "Name: Count_6-12_months_late, dtype: int64"
            ]
          },
          "metadata": {
            "tags": []
          },
          "execution_count": 26
        }
      ]
    },
    {
      "cell_type": "code",
      "metadata": {
        "colab": {
          "base_uri": "https://localhost:8080/"
        },
        "id": "0jGXH5gBnCXR",
        "outputId": "2ca9fc5b-5034-45ab-d4d7-a10d7cd11d40"
      },
      "source": [
        "train['Count_more_than_12_months_late'].value_counts()"
      ],
      "execution_count": 27,
      "outputs": [
        {
          "output_type": "execute_result",
          "data": {
            "text/plain": [
              "0.0     76038\n",
              "1.0      2996\n",
              "2.0       498\n",
              "3.0       151\n",
              "4.0        48\n",
              "5.0        13\n",
              "6.0         6\n",
              "7.0         3\n",
              "8.0         2\n",
              "11.0        1\n",
              "Name: Count_more_than_12_months_late, dtype: int64"
            ]
          },
          "metadata": {
            "tags": []
          },
          "execution_count": 27
        }
      ]
    },
    {
      "cell_type": "markdown",
      "metadata": {
        "id": "Ju42iRsTnJf7"
      },
      "source": [
        "It is these features = Count_3-6_months_late, Count_6-12_months_late, Count_more_than_12_months_late, that are continuous variables, although they have discrete values, so am leaving them as is. Transforming them, did not help in bringing them closer to normal distributions."
      ]
    },
    {
      "cell_type": "code",
      "metadata": {
        "colab": {
          "base_uri": "https://localhost:8080/",
          "height": 281
        },
        "id": "qiwPh7Zte7TF",
        "outputId": "26cc3a69-0590-4d49-a042-98af9c37b76b"
      },
      "source": [
        "train['application_underwriting_score'].plot.hist()"
      ],
      "execution_count": 28,
      "outputs": [
        {
          "output_type": "execute_result",
          "data": {
            "text/plain": [
              "<matplotlib.axes._subplots.AxesSubplot at 0x7f7a2d2dc690>"
            ]
          },
          "metadata": {
            "tags": []
          },
          "execution_count": 28
        },
        {
          "output_type": "display_data",
          "data": {
            "image/png": "[encoded data removed]",
            "text/plain": [
              "<Figure size 432x288 with 1 Axes>"
            ]
          },
          "metadata": {
            "tags": [],
            "needs_background": "light"
          }
        }
      ]
    },
    {
      "cell_type": "code",
      "metadata": {
        "id": "68qK1ggsayQC",
        "colab": {
          "base_uri": "https://localhost:8080/",
          "height": 282
        },
        "outputId": "c01a8c62-0672-4ecb-ab02-bde270d49c2e"
      },
      "source": [
        "train['application_underwriting_score'].plot.box()"
      ],
      "execution_count": 29,
      "outputs": [
        {
          "output_type": "execute_result",
          "data": {
            "text/plain": [
              "<matplotlib.axes._subplots.AxesSubplot at 0x7f7a2d559510>"
            ]
          },
          "metadata": {
            "tags": []
          },
          "execution_count": 29
        },
        {
          "output_type": "display_data",
          "data": {
            "image/png": "[encoded data removed]",
            "text/plain": [
              "<Figure size 432x288 with 1 Axes>"
            ]
          },
          "metadata": {
            "tags": [],
            "needs_background": "light"
          }
        }
      ]
    },
    {
      "cell_type": "code",
      "metadata": {
        "id": "TbsbNkbKayNo",
        "colab": {
          "base_uri": "https://localhost:8080/",
          "height": 295
        },
        "outputId": "dbca451c-d823-40ee-9582-c643f7ddebf5"
      },
      "source": [
        "np.exp(train['application_underwriting_score']).plot.hist()"
      ],
      "execution_count": 30,
      "outputs": [
        {
          "output_type": "execute_result",
          "data": {
            "text/plain": [
              "<matplotlib.axes._subplots.AxesSubplot at 0x7f7a2d633810>"
            ]
          },
          "metadata": {
            "tags": []
          },
          "execution_count": 30
        },
        {
          "output_type": "display_data",
          "data": {
            "image/png": "[encoded data removed]",
            "text/plain": [
              "<Figure size 432x288 with 1 Axes>"
            ]
          },
          "metadata": {
            "tags": [],
            "needs_background": "light"
          }
        }
      ]
    },
    {
      "cell_type": "code",
      "metadata": {
        "id": "8s_ghjudayLP",
        "colab": {
          "base_uri": "https://localhost:8080/",
          "height": 234
        },
        "outputId": "ee7b6240-9c0b-43c7-810c-6ce3bf6cdd67"
      },
      "source": [
        "train['application_underwriting_score'] = np.exp(train['application_underwriting_score'])\n",
        "train.head()"
      ],
      "execution_count": 31,
      "outputs": [
        {
          "output_type": "execute_result",
          "data": {
            "text/html": [
              "<div>\n",
              "<style scoped>\n",
              "    .dataframe tbody tr th:only-of-type {\n",
              "        vertical-align: middle;\n",
              "    }\n",
              "\n",
              "    .dataframe tbody tr th {\n",
              "        vertical-align: top;\n",
              "    }\n",
              "\n",
              "    .dataframe thead th {\n",
              "        text-align: right;\n",
              "    }\n",
              "</style>\n",
              "<table border=\"1\" class=\"dataframe\">\n",
              "  <thead>\n",
              "    <tr style=\"text-align: right;\">\n",
              "      <th></th>\n",
              "      <th>id</th>\n",
              "      <th>perc_premium_paid_by_cash_credit</th>\n",
              "      <th>age_in_days</th>\n",
              "      <th>Income</th>\n",
              "      <th>Count_3-6_months_late</th>\n",
              "      <th>Count_6-12_months_late</th>\n",
              "      <th>Count_more_than_12_months_late</th>\n",
              "      <th>application_underwriting_score</th>\n",
              "      <th>no_of_premiums_paid</th>\n",
              "      <th>sourcing_channel</th>\n",
              "      <th>residence_area_type</th>\n",
              "      <th>target</th>\n",
              "    </tr>\n",
              "  </thead>\n",
              "  <tbody>\n",
              "    <tr>\n",
              "      <th>0</th>\n",
              "      <td>110936</td>\n",
              "      <td>0.654981</td>\n",
              "      <td>12058.000000</td>\n",
              "      <td>12.780042</td>\n",
              "      <td>0.0</td>\n",
              "      <td>0.0</td>\n",
              "      <td>0.0</td>\n",
              "      <td>1.008880e+43</td>\n",
              "      <td>13</td>\n",
              "      <td>C</td>\n",
              "      <td>Urban</td>\n",
              "      <td>1</td>\n",
              "    </tr>\n",
              "    <tr>\n",
              "      <th>1</th>\n",
              "      <td>41492</td>\n",
              "      <td>0.100000</td>\n",
              "      <td>21546.000000</td>\n",
              "      <td>12.660804</td>\n",
              "      <td>0.0</td>\n",
              "      <td>0.0</td>\n",
              "      <td>0.0</td>\n",
              "      <td>2.408107e+43</td>\n",
              "      <td>21</td>\n",
              "      <td>A</td>\n",
              "      <td>Urban</td>\n",
              "      <td>1</td>\n",
              "    </tr>\n",
              "    <tr>\n",
              "      <th>2</th>\n",
              "      <td>31300</td>\n",
              "      <td>0.957601</td>\n",
              "      <td>17531.000000</td>\n",
              "      <td>11.340237</td>\n",
              "      <td>2.0</td>\n",
              "      <td>3.0</td>\n",
              "      <td>1.0</td>\n",
              "      <td>7.253079e+42</td>\n",
              "      <td>7</td>\n",
              "      <td>C</td>\n",
              "      <td>Rural</td>\n",
              "      <td>0</td>\n",
              "    </tr>\n",
              "    <tr>\n",
              "      <th>3</th>\n",
              "      <td>19415</td>\n",
              "      <td>0.221359</td>\n",
              "      <td>15341.000000</td>\n",
              "      <td>12.431254</td>\n",
              "      <td>0.0</td>\n",
              "      <td>0.0</td>\n",
              "      <td>0.0</td>\n",
              "      <td>1.748645e+43</td>\n",
              "      <td>9</td>\n",
              "      <td>A</td>\n",
              "      <td>Urban</td>\n",
              "      <td>1</td>\n",
              "    </tr>\n",
              "    <tr>\n",
              "      <th>4</th>\n",
              "      <td>99379</td>\n",
              "      <td>0.228035</td>\n",
              "      <td>18846.696906</td>\n",
              "      <td>12.199451</td>\n",
              "      <td>0.0</td>\n",
              "      <td>0.0</td>\n",
              "      <td>0.0</td>\n",
              "      <td>2.360423e+43</td>\n",
              "      <td>12</td>\n",
              "      <td>B</td>\n",
              "      <td>Urban</td>\n",
              "      <td>1</td>\n",
              "    </tr>\n",
              "  </tbody>\n",
              "</table>\n",
              "</div>"
            ],
            "text/plain": [
              "       id  perc_premium_paid_by_cash_credit   age_in_days     Income  \\\n",
              "0  110936                          0.654981  12058.000000  12.780042   \n",
              "1   41492                          0.100000  21546.000000  12.660804   \n",
              "2   31300                          0.957601  17531.000000  11.340237   \n",
              "3   19415                          0.221359  15341.000000  12.431254   \n",
              "4   99379                          0.228035  18846.696906  12.199451   \n",
              "\n",
              "   Count_3-6_months_late  Count_6-12_months_late  \\\n",
              "0                    0.0                     0.0   \n",
              "1                    0.0                     0.0   \n",
              "2                    2.0                     3.0   \n",
              "3                    0.0                     0.0   \n",
              "4                    0.0                     0.0   \n",
              "\n",
              "   Count_more_than_12_months_late  application_underwriting_score  \\\n",
              "0                             0.0                    1.008880e+43   \n",
              "1                             0.0                    2.408107e+43   \n",
              "2                             1.0                    7.253079e+42   \n",
              "3                             0.0                    1.748645e+43   \n",
              "4                             0.0                    2.360423e+43   \n",
              "\n",
              "   no_of_premiums_paid sourcing_channel residence_area_type  target  \n",
              "0                   13                C               Urban       1  \n",
              "1                   21                A               Urban       1  \n",
              "2                    7                C               Rural       0  \n",
              "3                    9                A               Urban       1  \n",
              "4                   12                B               Urban       1  "
            ]
          },
          "metadata": {
            "tags": []
          },
          "execution_count": 31
        }
      ]
    },
    {
      "cell_type": "code",
      "metadata": {
        "id": "XoRwgnFiayIu",
        "colab": {
          "base_uri": "https://localhost:8080/",
          "height": 294
        },
        "outputId": "2ecaba37-4a38-4cff-b440-01ca69298de2"
      },
      "source": [
        "train['application_underwriting_score'].plot.box()"
      ],
      "execution_count": 32,
      "outputs": [
        {
          "output_type": "execute_result",
          "data": {
            "text/plain": [
              "<matplotlib.axes._subplots.AxesSubplot at 0x7f7a2d197410>"
            ]
          },
          "metadata": {
            "tags": []
          },
          "execution_count": 32
        },
        {
          "output_type": "display_data",
          "data": {
            "image/png": "[encoded data removed]",
            "text/plain": [
              "<Figure size 432x288 with 1 Axes>"
            ]
          },
          "metadata": {
            "tags": [],
            "needs_background": "light"
          }
        }
      ]
    },
    {
      "cell_type": "code",
      "metadata": {
        "id": "9uSGP9SeayGR",
        "colab": {
          "base_uri": "https://localhost:8080/",
          "height": 281
        },
        "outputId": "051f7f86-11b5-46c4-d0cc-1951705e3dee"
      },
      "source": [
        "train['no_of_premiums_paid'].plot.hist()"
      ],
      "execution_count": 33,
      "outputs": [
        {
          "output_type": "execute_result",
          "data": {
            "text/plain": [
              "<matplotlib.axes._subplots.AxesSubplot at 0x7f7a2d1add10>"
            ]
          },
          "metadata": {
            "tags": []
          },
          "execution_count": 33
        },
        {
          "output_type": "display_data",
          "data": {
            "image/png": "[encoded data removed]",
            "text/plain": [
              "<Figure size 432x288 with 1 Axes>"
            ]
          },
          "metadata": {
            "tags": [],
            "needs_background": "light"
          }
        }
      ]
    },
    {
      "cell_type": "code",
      "metadata": {
        "id": "NNzW2cSKayEG",
        "colab": {
          "base_uri": "https://localhost:8080/",
          "height": 282
        },
        "outputId": "4fc05050-e10f-4a70-c511-ed4b8866bbe2"
      },
      "source": [
        "train['no_of_premiums_paid'].plot.box()"
      ],
      "execution_count": 34,
      "outputs": [
        {
          "output_type": "execute_result",
          "data": {
            "text/plain": [
              "<matplotlib.axes._subplots.AxesSubplot at 0x7f7a2d0cbf90>"
            ]
          },
          "metadata": {
            "tags": []
          },
          "execution_count": 34
        },
        {
          "output_type": "display_data",
          "data": {
            "image/png": "[encoded data removed]",
            "text/plain": [
              "<Figure size 432x288 with 1 Axes>"
            ]
          },
          "metadata": {
            "tags": [],
            "needs_background": "light"
          }
        }
      ]
    },
    {
      "cell_type": "code",
      "metadata": {
        "id": "_wklb0kzayBs",
        "colab": {
          "base_uri": "https://localhost:8080/",
          "height": 281
        },
        "outputId": "5a2f3d14-ccdc-4a87-f37a-f7165a7f32d0"
      },
      "source": [
        "np.log1p(train['no_of_premiums_paid']).plot.hist()"
      ],
      "execution_count": 35,
      "outputs": [
        {
          "output_type": "execute_result",
          "data": {
            "text/plain": [
              "<matplotlib.axes._subplots.AxesSubplot at 0x7f7a2f1876d0>"
            ]
          },
          "metadata": {
            "tags": []
          },
          "execution_count": 35
        },
        {
          "output_type": "display_data",
          "data": {
            "image/png": "[encoded data removed]",
            "text/plain": [
              "<Figure size 432x288 with 1 Axes>"
            ]
          },
          "metadata": {
            "tags": [],
            "needs_background": "light"
          }
        }
      ]
    },
    {
      "cell_type": "code",
      "metadata": {
        "id": "ZENJFIUxax_e",
        "colab": {
          "base_uri": "https://localhost:8080/",
          "height": 234
        },
        "outputId": "a5bd75a7-ebaa-45b3-c5a8-51f93bee5ec6"
      },
      "source": [
        "train['no_of_premiums_paid'] = np.log1p(train['no_of_premiums_paid'])\n",
        "train.head()"
      ],
      "execution_count": 36,
      "outputs": [
        {
          "output_type": "execute_result",
          "data": {
            "text/html": [
              "<div>\n",
              "<style scoped>\n",
              "    .dataframe tbody tr th:only-of-type {\n",
              "        vertical-align: middle;\n",
              "    }\n",
              "\n",
              "    .dataframe tbody tr th {\n",
              "        vertical-align: top;\n",
              "    }\n",
              "\n",
              "    .dataframe thead th {\n",
              "        text-align: right;\n",
              "    }\n",
              "</style>\n",
              "<table border=\"1\" class=\"dataframe\">\n",
              "  <thead>\n",
              "    <tr style=\"text-align: right;\">\n",
              "      <th></th>\n",
              "      <th>id</th>\n",
              "      <th>perc_premium_paid_by_cash_credit</th>\n",
              "      <th>age_in_days</th>\n",
              "      <th>Income</th>\n",
              "      <th>Count_3-6_months_late</th>\n",
              "      <th>Count_6-12_months_late</th>\n",
              "      <th>Count_more_than_12_months_late</th>\n",
              "      <th>application_underwriting_score</th>\n",
              "      <th>no_of_premiums_paid</th>\n",
              "      <th>sourcing_channel</th>\n",
              "      <th>residence_area_type</th>\n",
              "      <th>target</th>\n",
              "    </tr>\n",
              "  </thead>\n",
              "  <tbody>\n",
              "    <tr>\n",
              "      <th>0</th>\n",
              "      <td>110936</td>\n",
              "      <td>0.654981</td>\n",
              "      <td>12058.000000</td>\n",
              "      <td>12.780042</td>\n",
              "      <td>0.0</td>\n",
              "      <td>0.0</td>\n",
              "      <td>0.0</td>\n",
              "      <td>1.008880e+43</td>\n",
              "      <td>2.639057</td>\n",
              "      <td>C</td>\n",
              "      <td>Urban</td>\n",
              "      <td>1</td>\n",
              "    </tr>\n",
              "    <tr>\n",
              "      <th>1</th>\n",
              "      <td>41492</td>\n",
              "      <td>0.100000</td>\n",
              "      <td>21546.000000</td>\n",
              "      <td>12.660804</td>\n",
              "      <td>0.0</td>\n",
              "      <td>0.0</td>\n",
              "      <td>0.0</td>\n",
              "      <td>2.408107e+43</td>\n",
              "      <td>3.091042</td>\n",
              "      <td>A</td>\n",
              "      <td>Urban</td>\n",
              "      <td>1</td>\n",
              "    </tr>\n",
              "    <tr>\n",
              "      <th>2</th>\n",
              "      <td>31300</td>\n",
              "      <td>0.957601</td>\n",
              "      <td>17531.000000</td>\n",
              "      <td>11.340237</td>\n",
              "      <td>2.0</td>\n",
              "      <td>3.0</td>\n",
              "      <td>1.0</td>\n",
              "      <td>7.253079e+42</td>\n",
              "      <td>2.079442</td>\n",
              "      <td>C</td>\n",
              "      <td>Rural</td>\n",
              "      <td>0</td>\n",
              "    </tr>\n",
              "    <tr>\n",
              "      <th>3</th>\n",
              "      <td>19415</td>\n",
              "      <td>0.221359</td>\n",
              "      <td>15341.000000</td>\n",
              "      <td>12.431254</td>\n",
              "      <td>0.0</td>\n",
              "      <td>0.0</td>\n",
              "      <td>0.0</td>\n",
              "      <td>1.748645e+43</td>\n",
              "      <td>2.302585</td>\n",
              "      <td>A</td>\n",
              "      <td>Urban</td>\n",
              "      <td>1</td>\n",
              "    </tr>\n",
              "    <tr>\n",
              "      <th>4</th>\n",
              "      <td>99379</td>\n",
              "      <td>0.228035</td>\n",
              "      <td>18846.696906</td>\n",
              "      <td>12.199451</td>\n",
              "      <td>0.0</td>\n",
              "      <td>0.0</td>\n",
              "      <td>0.0</td>\n",
              "      <td>2.360423e+43</td>\n",
              "      <td>2.564949</td>\n",
              "      <td>B</td>\n",
              "      <td>Urban</td>\n",
              "      <td>1</td>\n",
              "    </tr>\n",
              "  </tbody>\n",
              "</table>\n",
              "</div>"
            ],
            "text/plain": [
              "       id  perc_premium_paid_by_cash_credit   age_in_days     Income  \\\n",
              "0  110936                          0.654981  12058.000000  12.780042   \n",
              "1   41492                          0.100000  21546.000000  12.660804   \n",
              "2   31300                          0.957601  17531.000000  11.340237   \n",
              "3   19415                          0.221359  15341.000000  12.431254   \n",
              "4   99379                          0.228035  18846.696906  12.199451   \n",
              "\n",
              "   Count_3-6_months_late  Count_6-12_months_late  \\\n",
              "0                    0.0                     0.0   \n",
              "1                    0.0                     0.0   \n",
              "2                    2.0                     3.0   \n",
              "3                    0.0                     0.0   \n",
              "4                    0.0                     0.0   \n",
              "\n",
              "   Count_more_than_12_months_late  application_underwriting_score  \\\n",
              "0                             0.0                    1.008880e+43   \n",
              "1                             0.0                    2.408107e+43   \n",
              "2                             1.0                    7.253079e+42   \n",
              "3                             0.0                    1.748645e+43   \n",
              "4                             0.0                    2.360423e+43   \n",
              "\n",
              "   no_of_premiums_paid sourcing_channel residence_area_type  target  \n",
              "0             2.639057                C               Urban       1  \n",
              "1             3.091042                A               Urban       1  \n",
              "2             2.079442                C               Rural       0  \n",
              "3             2.302585                A               Urban       1  \n",
              "4             2.564949                B               Urban       1  "
            ]
          },
          "metadata": {
            "tags": []
          },
          "execution_count": 36
        }
      ]
    },
    {
      "cell_type": "code",
      "metadata": {
        "id": "xLMg8Yr6ax9b",
        "colab": {
          "base_uri": "https://localhost:8080/"
        },
        "outputId": "2fd84f86-aa04-4675-ccf3-31e91090af95"
      },
      "source": [
        "# catogorical variables \n",
        "train.dtypes"
      ],
      "execution_count": 37,
      "outputs": [
        {
          "output_type": "execute_result",
          "data": {
            "text/plain": [
              "id                                    int64\n",
              "perc_premium_paid_by_cash_credit    float64\n",
              "age_in_days                         float64\n",
              "Income                              float64\n",
              "Count_3-6_months_late               float64\n",
              "Count_6-12_months_late              float64\n",
              "Count_more_than_12_months_late      float64\n",
              "application_underwriting_score      float64\n",
              "no_of_premiums_paid                 float64\n",
              "sourcing_channel                     object\n",
              "residence_area_type                  object\n",
              "target                                int64\n",
              "dtype: object"
            ]
          },
          "metadata": {
            "tags": []
          },
          "execution_count": 37
        }
      ]
    },
    {
      "cell_type": "code",
      "metadata": {
        "id": "2MW81Ro9ax6W",
        "colab": {
          "base_uri": "https://localhost:8080/"
        },
        "outputId": "3583771a-e7bd-4f45-9d6a-a76fd125623b"
      },
      "source": [
        "train['sourcing_channel'].value_counts()"
      ],
      "execution_count": 38,
      "outputs": [
        {
          "output_type": "execute_result",
          "data": {
            "text/plain": [
              "A    43134\n",
              "B    16512\n",
              "C    12039\n",
              "D     7559\n",
              "E      609\n",
              "Name: sourcing_channel, dtype: int64"
            ]
          },
          "metadata": {
            "tags": []
          },
          "execution_count": 38
        }
      ]
    },
    {
      "cell_type": "code",
      "metadata": {
        "id": "tqfnOL7Gax4F",
        "colab": {
          "base_uri": "https://localhost:8080/"
        },
        "outputId": "560060e8-4e53-4e8d-94f6-c782684bcad2"
      },
      "source": [
        "train['sourcing_channel'].value_counts() / len(train['sourcing_channel'])"
      ],
      "execution_count": 39,
      "outputs": [
        {
          "output_type": "execute_result",
          "data": {
            "text/plain": [
              "A    0.540168\n",
              "B    0.206780\n",
              "C    0.150765\n",
              "D    0.094661\n",
              "E    0.007627\n",
              "Name: sourcing_channel, dtype: float64"
            ]
          },
          "metadata": {
            "tags": []
          },
          "execution_count": 39
        }
      ]
    },
    {
      "cell_type": "code",
      "metadata": {
        "id": "iS8EJ66Kax1p",
        "colab": {
          "base_uri": "https://localhost:8080/",
          "height": 280
        },
        "outputId": "0d2715d7-d9d1-47f5-d221-0315e2a49f09"
      },
      "source": [
        "train['sourcing_channel'].value_counts().plot.bar()"
      ],
      "execution_count": 40,
      "outputs": [
        {
          "output_type": "execute_result",
          "data": {
            "text/plain": [
              "<matplotlib.axes._subplots.AxesSubplot at 0x7f7a2cffd290>"
            ]
          },
          "metadata": {
            "tags": []
          },
          "execution_count": 40
        },
        {
          "output_type": "display_data",
          "data": {
            "image/png": "[encoded data removed]",
            "text/plain": [
              "<Figure size 432x288 with 1 Axes>"
            ]
          },
          "metadata": {
            "tags": [],
            "needs_background": "light"
          }
        }
      ]
    },
    {
      "cell_type": "code",
      "metadata": {
        "id": "RwksDrsSaxys",
        "colab": {
          "base_uri": "https://localhost:8080/"
        },
        "outputId": "dd1c36dd-5f04-43d3-f4e7-9c89bad1727d"
      },
      "source": [
        "train['residence_area_type'].value_counts()"
      ],
      "execution_count": 41,
      "outputs": [
        {
          "output_type": "execute_result",
          "data": {
            "text/plain": [
              "Urban    48183\n",
              "Rural    31670\n",
              "Name: residence_area_type, dtype: int64"
            ]
          },
          "metadata": {
            "tags": []
          },
          "execution_count": 41
        }
      ]
    },
    {
      "cell_type": "code",
      "metadata": {
        "id": "r0Fd2l7Laxwj",
        "colab": {
          "base_uri": "https://localhost:8080/",
          "height": 304
        },
        "outputId": "a2596133-a028-426f-b370-45e94d4e4104"
      },
      "source": [
        "train['residence_area_type'].value_counts().plot.bar()"
      ],
      "execution_count": 42,
      "outputs": [
        {
          "output_type": "execute_result",
          "data": {
            "text/plain": [
              "<matplotlib.axes._subplots.AxesSubplot at 0x7f7a2cf0d090>"
            ]
          },
          "metadata": {
            "tags": []
          },
          "execution_count": 42
        },
        {
          "output_type": "display_data",
          "data": {
            "image/png": "[encoded data removed]",
            "text/plain": [
              "<Figure size 432x288 with 1 Axes>"
            ]
          },
          "metadata": {
            "tags": [],
            "needs_background": "light"
          }
        }
      ]
    },
    {
      "cell_type": "markdown",
      "metadata": {
        "id": "fxd9IYwju79T"
      },
      "source": [
        "### Bivariate Analysis"
      ]
    },
    {
      "cell_type": "code",
      "metadata": {
        "id": "WWrk2N4zaxuw",
        "colab": {
          "base_uri": "https://localhost:8080/",
          "height": 617
        },
        "outputId": "940348ba-3aa3-4672-e40c-c41d0a2003ac"
      },
      "source": [
        "# continuous - continuous (Scatter, corr)\n",
        "# continuous - object (barplot)\n",
        "cor = train.corr()\n",
        "plt.figure(figsize=(12,7))\n",
        "sns.heatmap(cor, annot=True)"
      ],
      "execution_count": 43,
      "outputs": [
        {
          "output_type": "execute_result",
          "data": {
            "text/plain": [
              "<matplotlib.axes._subplots.AxesSubplot at 0x7f7a2f13fa90>"
            ]
          },
          "metadata": {
            "tags": []
          },
          "execution_count": 43
        },
        {
          "output_type": "display_data",
          "data": {
            "image/png": "[encoded data removed]",
            "text/plain": [
              "<Figure size 864x504 with 2 Axes>"
            ]
          },
          "metadata": {
            "tags": [],
            "needs_background": "light"
          }
        }
      ]
    },
    {
      "cell_type": "markdown",
      "metadata": {
        "id": "DvVa4Oh-wN2o"
      },
      "source": [
        "* no_of_premiums_paid has a high negative correlation with application_underwriting_score\n",
        "* The target feature has negative correlativity with per_premium_paid_by_cash_credit, and the count columns of paying the premium late. \n",
        "\n",
        "Darker the color, higher the corelation with each other. "
      ]
    },
    {
      "cell_type": "code",
      "metadata": {
        "colab": {
          "base_uri": "https://localhost:8080/",
          "height": 137
        },
        "id": "X219MbX80hVT",
        "outputId": "21e5f8fb-cec7-415f-ee19-61fdb351cdde"
      },
      "source": [
        "pd.crosstab(train['residence_area_type'], train['target'])"
      ],
      "execution_count": 44,
      "outputs": [
        {
          "output_type": "execute_result",
          "data": {
            "text/html": [
              "<div>\n",
              "<style scoped>\n",
              "    .dataframe tbody tr th:only-of-type {\n",
              "        vertical-align: middle;\n",
              "    }\n",
              "\n",
              "    .dataframe tbody tr th {\n",
              "        vertical-align: top;\n",
              "    }\n",
              "\n",
              "    .dataframe thead th {\n",
              "        text-align: right;\n",
              "    }\n",
              "</style>\n",
              "<table border=\"1\" class=\"dataframe\">\n",
              "  <thead>\n",
              "    <tr style=\"text-align: right;\">\n",
              "      <th>target</th>\n",
              "      <th>0</th>\n",
              "      <th>1</th>\n",
              "    </tr>\n",
              "    <tr>\n",
              "      <th>residence_area_type</th>\n",
              "      <th></th>\n",
              "      <th></th>\n",
              "    </tr>\n",
              "  </thead>\n",
              "  <tbody>\n",
              "    <tr>\n",
              "      <th>Rural</th>\n",
              "      <td>1998</td>\n",
              "      <td>29672</td>\n",
              "    </tr>\n",
              "    <tr>\n",
              "      <th>Urban</th>\n",
              "      <td>3000</td>\n",
              "      <td>45183</td>\n",
              "    </tr>\n",
              "  </tbody>\n",
              "</table>\n",
              "</div>"
            ],
            "text/plain": [
              "target                  0      1\n",
              "residence_area_type             \n",
              "Rural                1998  29672\n",
              "Urban                3000  45183"
            ]
          },
          "metadata": {
            "tags": []
          },
          "execution_count": 44
        }
      ]
    },
    {
      "cell_type": "code",
      "metadata": {
        "id": "J5doWP5Waxry",
        "colab": {
          "base_uri": "https://localhost:8080/"
        },
        "outputId": "688ae7ed-2ecf-4ce5-a9cc-be04f4ebc892"
      },
      "source": [
        "from scipy.stats import ttest_ind \n",
        "rural = train[train['residence_area_type'] == 'Rural']\n",
        "urban = train[train['residence_area_type'] == 'Urban']\n",
        "ttest_ind(rural['target'], urban['target'], nan_policy='omit')"
      ],
      "execution_count": 45,
      "outputs": [
        {
          "output_type": "execute_result",
          "data": {
            "text/plain": [
              "Ttest_indResult(statistic=-0.471091940585662, pvalue=0.6375763671544947)"
            ]
          },
          "metadata": {
            "tags": []
          },
          "execution_count": 45
        }
      ]
    },
    {
      "cell_type": "markdown",
      "metadata": {
        "id": "H023YkohzkZk"
      },
      "source": [
        "#### Hypothesis test\n",
        "\n",
        "* Null: Urban people pay their premium on time.\n",
        "* Alternate: Both rural and urban people have exactly the same ratio of paying.\n",
        "\n",
        "But from the above result, the value of p is much higher than 0.05, therefore the null hypothesis can be rejected and said that people from any type of residence have the same percentage whether they will pay the premium on time or not. "
      ]
    },
    {
      "cell_type": "code",
      "metadata": {
        "id": "BJeQAEuBaxpJ",
        "colab": {
          "base_uri": "https://localhost:8080/"
        },
        "outputId": "c2befbf6-b2f4-491e-ec70-3d6988338ef7"
      },
      "source": [
        "from scipy.stats import chi2_contingency\n",
        "chi2_contingency(pd.crosstab(train['residence_area_type'], train['target']))"
      ],
      "execution_count": 46,
      "outputs": [
        {
          "output_type": "execute_result",
          "data": {
            "text/plain": [
              "(0.2080863817891421,\n",
              " 0.6482714305747836,\n",
              " 1,\n",
              " array([[ 1982.22558952, 29687.77441048],\n",
              "        [ 3015.77441048, 45167.22558952]]))"
            ]
          },
          "metadata": {
            "tags": []
          },
          "execution_count": 46
        }
      ]
    },
    {
      "cell_type": "code",
      "metadata": {
        "colab": {
          "base_uri": "https://localhost:8080/",
          "height": 296
        },
        "id": "8dgjBD2eD9z_",
        "outputId": "97263601-1910-4c78-cdea-19ab7c21d3e8"
      },
      "source": [
        "# checking how many paid premiums \n",
        "sns.countplot(x='target', data=train)"
      ],
      "execution_count": 47,
      "outputs": [
        {
          "output_type": "execute_result",
          "data": {
            "text/plain": [
              "<matplotlib.axes._subplots.AxesSubplot at 0x7f7a2ceefd50>"
            ]
          },
          "metadata": {
            "tags": []
          },
          "execution_count": 47
        },
        {
          "output_type": "display_data",
          "data": {
            "image/png": "[encoded data removed]",
            "text/plain": [
              "<Figure size 432x288 with 1 Axes>"
            ]
          },
          "metadata": {
            "tags": [],
            "needs_background": "light"
          }
        }
      ]
    },
    {
      "cell_type": "markdown",
      "metadata": {
        "id": "O3_pf8JfEm3w"
      },
      "source": [
        "Seems like most of the people have paid their premium on time, very few have not paid in time. This also shows that the target variable (dependent feature) is skewed, so might have to transform it so that the lesser values also have a significant value in the feature."
      ]
    },
    {
      "cell_type": "code",
      "metadata": {
        "colab": {
          "base_uri": "https://localhost:8080/",
          "height": 350
        },
        "id": "0RIGlOuhO19r",
        "outputId": "98ba80e8-749e-4ebd-fdf8-f4e8ac2b7d87"
      },
      "source": [
        "sns.countplot('Count_6-12_months_late', data=train, hue='target', palette='Dark2')\n",
        "plt.xlabel('Late in paying premium (months)')"
      ],
      "execution_count": 48,
      "outputs": [
        {
          "output_type": "stream",
          "text": [
            "/usr/local/lib/python3.7/dist-packages/seaborn/_decorators.py:43: FutureWarning: Pass the following variable as a keyword arg: x. From version 0.12, the only valid positional argument will be `data`, and passing other arguments without an explicit keyword will result in an error or misinterpretation.\n",
            "  FutureWarning\n"
          ],
          "name": "stderr"
        },
        {
          "output_type": "execute_result",
          "data": {
            "text/plain": [
              "Text(0.5, 0, 'Late in paying premium (months)')"
            ]
          },
          "metadata": {
            "tags": []
          },
          "execution_count": 48
        },
        {
          "output_type": "display_data",
          "data": {
            "image/png": "[encoded data removed]",
            "text/plain": [
              "<Figure size 432x288 with 1 Axes>"
            ]
          },
          "metadata": {
            "tags": [],
            "needs_background": "light"
          }
        }
      ]
    },
    {
      "cell_type": "code",
      "metadata": {
        "colab": {
          "base_uri": "https://localhost:8080/",
          "height": 350
        },
        "id": "67E_fH0aPWQr",
        "outputId": "945597c0-8aba-405d-e88e-5fa23f86167b"
      },
      "source": [
        "sns.countplot('Count_more_than_12_months_late', data=train, hue='target', palette='Dark2')\n",
        "plt.xlabel('Late in paying premium (months)')"
      ],
      "execution_count": 49,
      "outputs": [
        {
          "output_type": "stream",
          "text": [
            "/usr/local/lib/python3.7/dist-packages/seaborn/_decorators.py:43: FutureWarning: Pass the following variable as a keyword arg: x. From version 0.12, the only valid positional argument will be `data`, and passing other arguments without an explicit keyword will result in an error or misinterpretation.\n",
            "  FutureWarning\n"
          ],
          "name": "stderr"
        },
        {
          "output_type": "execute_result",
          "data": {
            "text/plain": [
              "Text(0.5, 0, 'Late in paying premium (months)')"
            ]
          },
          "metadata": {
            "tags": []
          },
          "execution_count": 49
        },
        {
          "output_type": "display_data",
          "data": {
            "image/png": "[encoded data removed]",
            "text/plain": [
              "<Figure size 432x288 with 1 Axes>"
            ]
          },
          "metadata": {
            "tags": [],
            "needs_background": "light"
          }
        }
      ]
    },
    {
      "cell_type": "code",
      "metadata": {
        "colab": {
          "base_uri": "https://localhost:8080/",
          "height": 350
        },
        "id": "AjUx8sexPOGb",
        "outputId": "ea956559-24c8-415f-ead3-9baba8f3f8d8"
      },
      "source": [
        "sns.countplot('Count_3-6_months_late', data=train, hue='target', palette='Dark2')\n",
        "plt.xlabel('Late in paying premium (months)')"
      ],
      "execution_count": 50,
      "outputs": [
        {
          "output_type": "stream",
          "text": [
            "/usr/local/lib/python3.7/dist-packages/seaborn/_decorators.py:43: FutureWarning: Pass the following variable as a keyword arg: x. From version 0.12, the only valid positional argument will be `data`, and passing other arguments without an explicit keyword will result in an error or misinterpretation.\n",
            "  FutureWarning\n"
          ],
          "name": "stderr"
        },
        {
          "output_type": "execute_result",
          "data": {
            "text/plain": [
              "Text(0.5, 0, 'Late in paying premium (months)')"
            ]
          },
          "metadata": {
            "tags": []
          },
          "execution_count": 50
        },
        {
          "output_type": "display_data",
          "data": {
            "image/png": "[encoded data removed]",
            "text/plain": [
              "<Figure size 432x288 with 1 Axes>"
            ]
          },
          "metadata": {
            "tags": [],
            "needs_background": "light"
          }
        }
      ]
    },
    {
      "cell_type": "markdown",
      "metadata": {
        "id": "5sIiorcgPlLF"
      },
      "source": [
        "From all tthe above three plots, its clearly visible that people have high chances of not paying in initial months, yet that does not mean, the majority of people shall fail to pay the premium on time, as its seen otherwise with the orange vertical bar."
      ]
    },
    {
      "cell_type": "code",
      "metadata": {
        "colab": {
          "base_uri": "https://localhost:8080/",
          "height": 296
        },
        "id": "Vs4s0CpWN6HS",
        "outputId": "36d40368-39d0-4482-e4df-6c340dec3ead"
      },
      "source": [
        "grid = sns.FacetGrid(data=train, col='target')\n",
        "grid.map(sns.countplot, 'residence_area_type', palette='magma')"
      ],
      "execution_count": 51,
      "outputs": [
        {
          "output_type": "stream",
          "text": [
            "/usr/local/lib/python3.7/dist-packages/seaborn/axisgrid.py:643: UserWarning: Using the countplot function without specifying `order` is likely to produce an incorrect plot.\n",
            "  warnings.warn(warning)\n"
          ],
          "name": "stderr"
        },
        {
          "output_type": "execute_result",
          "data": {
            "text/plain": [
              "<seaborn.axisgrid.FacetGrid at 0x7f7a22aac510>"
            ]
          },
          "metadata": {
            "tags": []
          },
          "execution_count": 51
        },
        {
          "output_type": "display_data",
          "data": {
            "image/png": "[encoded data removed]",
            "text/plain": [
              "<Figure size 432x216 with 2 Axes>"
            ]
          },
          "metadata": {
            "tags": [],
            "needs_background": "light"
          }
        }
      ]
    },
    {
      "cell_type": "markdown",
      "metadata": {
        "id": "fP__uUu5OUdT"
      },
      "source": [
        "people from rural and urban area have almost same percentage of not paying the premium, but the good thing is the people not paying the premium on time are very few based on their residency."
      ]
    },
    {
      "cell_type": "code",
      "metadata": {
        "id": "jQoQFRMKEehx"
      },
      "source": [
        "# sns.pairplot(train, hue ='target')"
      ],
      "execution_count": 52,
      "outputs": []
    },
    {
      "cell_type": "code",
      "metadata": {
        "colab": {
          "base_uri": "https://localhost:8080/",
          "height": 617
        },
        "id": "ZO8mVevcF6_Q",
        "outputId": "d875486c-28eb-4583-bda2-3479834aaf3b"
      },
      "source": [
        "plt.figure(figsize=(12,7))\n",
        "sns.heatmap(train.corr(), annot=True, cmap='crest')"
      ],
      "execution_count": 53,
      "outputs": [
        {
          "output_type": "execute_result",
          "data": {
            "text/plain": [
              "<matplotlib.axes._subplots.AxesSubplot at 0x7f7a229ef850>"
            ]
          },
          "metadata": {
            "tags": []
          },
          "execution_count": 53
        },
        {
          "output_type": "display_data",
          "data": {
            "image/png": "[encoded data removed]",
            "text/plain": [
              "<Figure size 864x504 with 2 Axes>"
            ]
          },
          "metadata": {
            "tags": [],
            "needs_background": "light"
          }
        }
      ]
    },
    {
      "cell_type": "markdown",
      "metadata": {
        "id": "IMIim4csMQWi"
      },
      "source": [
        "As from the heatmap following corelations can be sited:\n",
        "* Count_3_6_months_late, Count_6_12_months_late and Count_more_tan_12_months_late have a positive coorelation with per_premium_paid_by_cash_credit. This also can show that there might be multicollinearity between the three columns. \n",
        "* Target feature has high negative coreelation with per_premium_paid_by_cash_credit.\n",
        "* Target feature also has high negative corelation with Count_3_6_months_late, Count_6_12_months_late and Count_more_tan_12_months_late. (Agian, showing signs of multicollinearity). \n",
        "* Age also has important role to play as it has both positive correlation and negative correlations with no_of_premiums_paid and per_premium_paid_by_cas_credit."
      ]
    },
    {
      "cell_type": "markdown",
      "metadata": {
        "id": "dewPHJ4SQI_f"
      },
      "source": [
        "# Cleaning data for both test and train dataset"
      ]
    },
    {
      "cell_type": "code",
      "metadata": {
        "colab": {
          "base_uri": "https://localhost:8080/"
        },
        "id": "KVmefvVMLsZ8",
        "outputId": "65400caa-e974-4065-9679-1dc9102ba980"
      },
      "source": [
        "train.isnull().sum()"
      ],
      "execution_count": 54,
      "outputs": [
        {
          "output_type": "execute_result",
          "data": {
            "text/plain": [
              "id                                     0\n",
              "perc_premium_paid_by_cash_credit       0\n",
              "age_in_days                            0\n",
              "Income                                 0\n",
              "Count_3-6_months_late                 97\n",
              "Count_6-12_months_late                97\n",
              "Count_more_than_12_months_late        97\n",
              "application_underwriting_score      2974\n",
              "no_of_premiums_paid                    0\n",
              "sourcing_channel                       0\n",
              "residence_area_type                    0\n",
              "target                                 0\n",
              "dtype: int64"
            ]
          },
          "metadata": {
            "tags": []
          },
          "execution_count": 54
        }
      ]
    },
    {
      "cell_type": "code",
      "metadata": {
        "colab": {
          "base_uri": "https://localhost:8080/",
          "height": 449
        },
        "id": "CKtzru9bQQ5M",
        "outputId": "0b103723-8702-42bd-bd01-2164c5f3c847"
      },
      "source": [
        "sns.heatmap(train.isnull(), yticklabels=False, cbar=False)"
      ],
      "execution_count": 55,
      "outputs": [
        {
          "output_type": "execute_result",
          "data": {
            "text/plain": [
              "<matplotlib.axes._subplots.AxesSubplot at 0x7f7a21aa55d0>"
            ]
          },
          "metadata": {
            "tags": []
          },
          "execution_count": 55
        },
        {
          "output_type": "display_data",
          "data": {
            "image/png": "[encoded data removed]",
            "text/plain": [
              "<Figure size 432x288 with 1 Axes>"
            ]
          },
          "metadata": {
            "tags": [],
            "needs_background": "light"
          }
        }
      ]
    },
    {
      "cell_type": "code",
      "metadata": {
        "colab": {
          "base_uri": "https://localhost:8080/",
          "height": 366
        },
        "id": "zN9_hu7UQ7Ew",
        "outputId": "b06bdec8-abae-4251-b746-6a15ed2c5eea"
      },
      "source": [
        "train.describe().T"
      ],
      "execution_count": 56,
      "outputs": [
        {
          "output_type": "execute_result",
          "data": {
            "text/html": [
              "<div>\n",
              "<style scoped>\n",
              "    .dataframe tbody tr th:only-of-type {\n",
              "        vertical-align: middle;\n",
              "    }\n",
              "\n",
              "    .dataframe tbody tr th {\n",
              "        vertical-align: top;\n",
              "    }\n",
              "\n",
              "    .dataframe thead th {\n",
              "        text-align: right;\n",
              "    }\n",
              "</style>\n",
              "<table border=\"1\" class=\"dataframe\">\n",
              "  <thead>\n",
              "    <tr style=\"text-align: right;\">\n",
              "      <th></th>\n",
              "      <th>count</th>\n",
              "      <th>mean</th>\n",
              "      <th>std</th>\n",
              "      <th>min</th>\n",
              "      <th>25%</th>\n",
              "      <th>50%</th>\n",
              "      <th>75%</th>\n",
              "      <th>max</th>\n",
              "    </tr>\n",
              "  </thead>\n",
              "  <tbody>\n",
              "    <tr>\n",
              "      <th>id</th>\n",
              "      <td>79853.0</td>\n",
              "      <td>5.716717e+04</td>\n",
              "      <td>3.292897e+04</td>\n",
              "      <td>2.000000e+00</td>\n",
              "      <td>2.864000e+04</td>\n",
              "      <td>5.726200e+04</td>\n",
              "      <td>8.563200e+04</td>\n",
              "      <td>1.140760e+05</td>\n",
              "    </tr>\n",
              "    <tr>\n",
              "      <th>perc_premium_paid_by_cash_credit</th>\n",
              "      <td>79853.0</td>\n",
              "      <td>4.605739e-01</td>\n",
              "      <td>3.196258e-01</td>\n",
              "      <td>0.000000e+00</td>\n",
              "      <td>1.843909e-01</td>\n",
              "      <td>4.086563e-01</td>\n",
              "      <td>7.334848e-01</td>\n",
              "      <td>1.000000e+00</td>\n",
              "    </tr>\n",
              "    <tr>\n",
              "      <th>age_in_days</th>\n",
              "      <td>79853.0</td>\n",
              "      <td>1.861751e+04</td>\n",
              "      <td>4.910698e+03</td>\n",
              "      <td>7.670000e+03</td>\n",
              "      <td>1.497400e+04</td>\n",
              "      <td>1.862500e+04</td>\n",
              "      <td>2.227400e+04</td>\n",
              "      <td>2.994500e+04</td>\n",
              "    </tr>\n",
              "    <tr>\n",
              "      <th>Income</th>\n",
              "      <td>79853.0</td>\n",
              "      <td>1.200378e+01</td>\n",
              "      <td>6.605315e-01</td>\n",
              "      <td>1.008706e+01</td>\n",
              "      <td>1.158998e+01</td>\n",
              "      <td>1.202311e+01</td>\n",
              "      <td>1.243754e+01</td>\n",
              "      <td>1.831823e+01</td>\n",
              "    </tr>\n",
              "    <tr>\n",
              "      <th>Count_3-6_months_late</th>\n",
              "      <td>79756.0</td>\n",
              "      <td>2.486709e-01</td>\n",
              "      <td>6.914681e-01</td>\n",
              "      <td>0.000000e+00</td>\n",
              "      <td>0.000000e+00</td>\n",
              "      <td>0.000000e+00</td>\n",
              "      <td>0.000000e+00</td>\n",
              "      <td>1.300000e+01</td>\n",
              "    </tr>\n",
              "    <tr>\n",
              "      <th>Count_6-12_months_late</th>\n",
              "      <td>79756.0</td>\n",
              "      <td>7.818847e-02</td>\n",
              "      <td>4.365074e-01</td>\n",
              "      <td>0.000000e+00</td>\n",
              "      <td>0.000000e+00</td>\n",
              "      <td>0.000000e+00</td>\n",
              "      <td>0.000000e+00</td>\n",
              "      <td>1.700000e+01</td>\n",
              "    </tr>\n",
              "    <tr>\n",
              "      <th>Count_more_than_12_months_late</th>\n",
              "      <td>79756.0</td>\n",
              "      <td>6.000802e-02</td>\n",
              "      <td>3.120227e-01</td>\n",
              "      <td>0.000000e+00</td>\n",
              "      <td>0.000000e+00</td>\n",
              "      <td>0.000000e+00</td>\n",
              "      <td>0.000000e+00</td>\n",
              "      <td>1.100000e+01</td>\n",
              "    </tr>\n",
              "    <tr>\n",
              "      <th>application_underwriting_score</th>\n",
              "      <td>76879.0</td>\n",
              "      <td>1.262575e+43</td>\n",
              "      <td>6.032409e+42</td>\n",
              "      <td>8.159488e+39</td>\n",
              "      <td>8.177824e+42</td>\n",
              "      <td>1.219988e+43</td>\n",
              "      <td>1.696964e+43</td>\n",
              "      <td>2.408107e+43</td>\n",
              "    </tr>\n",
              "    <tr>\n",
              "      <th>no_of_premiums_paid</th>\n",
              "      <td>79853.0</td>\n",
              "      <td>2.381696e+00</td>\n",
              "      <td>4.355479e-01</td>\n",
              "      <td>1.098612e+00</td>\n",
              "      <td>2.079442e+00</td>\n",
              "      <td>2.397895e+00</td>\n",
              "      <td>2.708050e+00</td>\n",
              "      <td>4.110874e+00</td>\n",
              "    </tr>\n",
              "    <tr>\n",
              "      <th>target</th>\n",
              "      <td>79853.0</td>\n",
              "      <td>9.374100e-01</td>\n",
              "      <td>2.422256e-01</td>\n",
              "      <td>0.000000e+00</td>\n",
              "      <td>1.000000e+00</td>\n",
              "      <td>1.000000e+00</td>\n",
              "      <td>1.000000e+00</td>\n",
              "      <td>1.000000e+00</td>\n",
              "    </tr>\n",
              "  </tbody>\n",
              "</table>\n",
              "</div>"
            ],
            "text/plain": [
              "                                    count          mean           std  \\\n",
              "id                                79853.0  5.716717e+04  3.292897e+04   \n",
              "perc_premium_paid_by_cash_credit  79853.0  4.605739e-01  3.196258e-01   \n",
              "age_in_days                       79853.0  1.861751e+04  4.910698e+03   \n",
              "Income                            79853.0  1.200378e+01  6.605315e-01   \n",
              "Count_3-6_months_late             79756.0  2.486709e-01  6.914681e-01   \n",
              "Count_6-12_months_late            79756.0  7.818847e-02  4.365074e-01   \n",
              "Count_more_than_12_months_late    79756.0  6.000802e-02  3.120227e-01   \n",
              "application_underwriting_score    76879.0  1.262575e+43  6.032409e+42   \n",
              "no_of_premiums_paid               79853.0  2.381696e+00  4.355479e-01   \n",
              "target                            79853.0  9.374100e-01  2.422256e-01   \n",
              "\n",
              "                                           min           25%           50%  \\\n",
              "id                                2.000000e+00  2.864000e+04  5.726200e+04   \n",
              "perc_premium_paid_by_cash_credit  0.000000e+00  1.843909e-01  4.086563e-01   \n",
              "age_in_days                       7.670000e+03  1.497400e+04  1.862500e+04   \n",
              "Income                            1.008706e+01  1.158998e+01  1.202311e+01   \n",
              "Count_3-6_months_late             0.000000e+00  0.000000e+00  0.000000e+00   \n",
              "Count_6-12_months_late            0.000000e+00  0.000000e+00  0.000000e+00   \n",
              "Count_more_than_12_months_late    0.000000e+00  0.000000e+00  0.000000e+00   \n",
              "application_underwriting_score    8.159488e+39  8.177824e+42  1.219988e+43   \n",
              "no_of_premiums_paid               1.098612e+00  2.079442e+00  2.397895e+00   \n",
              "target                            0.000000e+00  1.000000e+00  1.000000e+00   \n",
              "\n",
              "                                           75%           max  \n",
              "id                                8.563200e+04  1.140760e+05  \n",
              "perc_premium_paid_by_cash_credit  7.334848e-01  1.000000e+00  \n",
              "age_in_days                       2.227400e+04  2.994500e+04  \n",
              "Income                            1.243754e+01  1.831823e+01  \n",
              "Count_3-6_months_late             0.000000e+00  1.300000e+01  \n",
              "Count_6-12_months_late            0.000000e+00  1.700000e+01  \n",
              "Count_more_than_12_months_late    0.000000e+00  1.100000e+01  \n",
              "application_underwriting_score    1.696964e+43  2.408107e+43  \n",
              "no_of_premiums_paid               2.708050e+00  4.110874e+00  \n",
              "target                            1.000000e+00  1.000000e+00  "
            ]
          },
          "metadata": {
            "tags": []
          },
          "execution_count": 56
        }
      ]
    },
    {
      "cell_type": "markdown",
      "metadata": {
        "id": "0U4MH7cJQ5mf"
      },
      "source": [
        "application_underwriting_Score has the most null values and from the above table it can be said that the using the mean value for filling this null values would be good because most of the values lies between 91 and 99.\n",
        "\n",
        "And for the other three columns hgave almost the same number of values missing i.e. 97, dropping them would be a good idea coz they also seem to show signs of multicolinearity, but isnstead of dropping those, lets use the median values for it."
      ]
    },
    {
      "cell_type": "code",
      "metadata": {
        "id": "Y98iNIuEQ0-U"
      },
      "source": [
        "train['application_underwriting_score'] = train['application_underwriting_score'].fillna(\n",
        "    train['application_underwriting_score'].mean())\n",
        "\n",
        "train['Count_3-6_months_late'] = train['Count_3-6_months_late'].fillna(\n",
        "    train['Count_3-6_months_late'].median())\n",
        "\n",
        "train['Count_6-12_months_late'] = train['Count_6-12_months_late'].fillna(\n",
        "    train['Count_6-12_months_late'].median())\n",
        "\n",
        "train['Count_more_than_12_months_late'] = train['Count_more_than_12_months_late'].fillna(\n",
        "    train['Count_more_than_12_months_late'].median()) "
      ],
      "execution_count": 57,
      "outputs": []
    },
    {
      "cell_type": "code",
      "metadata": {
        "colab": {
          "base_uri": "https://localhost:8080/",
          "height": 449
        },
        "id": "NAMfub6cSmvl",
        "outputId": "06229835-54b8-4862-ea89-57c8d7784cfa"
      },
      "source": [
        "sns.heatmap(train.isnull(), yticklabels=False, cbar=False)"
      ],
      "execution_count": 58,
      "outputs": [
        {
          "output_type": "execute_result",
          "data": {
            "text/plain": [
              "<matplotlib.axes._subplots.AxesSubplot at 0x7f7a2284c410>"
            ]
          },
          "metadata": {
            "tags": []
          },
          "execution_count": 58
        },
        {
          "output_type": "display_data",
          "data": {
            "image/png": "[encoded data removed]",
            "text/plain": [
              "<Figure size 432x288 with 1 Axes>"
            ]
          },
          "metadata": {
            "tags": [],
            "needs_background": "light"
          }
        }
      ]
    },
    {
      "cell_type": "code",
      "metadata": {
        "id": "LrluYy_RhbD8"
      },
      "source": [
        "# train.dropna()"
      ],
      "execution_count": 59,
      "outputs": []
    },
    {
      "cell_type": "code",
      "metadata": {
        "colab": {
          "base_uri": "https://localhost:8080/",
          "height": 234
        },
        "id": "CkzV2gvKTBST",
        "outputId": "bf748434-4065-4e05-ef58-d281026e4532"
      },
      "source": [
        "# test data set\n",
        "test = pd.read_csv('/content/sample_data/test.csv')\n",
        "test.tail()"
      ],
      "execution_count": 60,
      "outputs": [
        {
          "output_type": "execute_result",
          "data": {
            "text/html": [
              "<div>\n",
              "<style scoped>\n",
              "    .dataframe tbody tr th:only-of-type {\n",
              "        vertical-align: middle;\n",
              "    }\n",
              "\n",
              "    .dataframe tbody tr th {\n",
              "        vertical-align: top;\n",
              "    }\n",
              "\n",
              "    .dataframe thead th {\n",
              "        text-align: right;\n",
              "    }\n",
              "</style>\n",
              "<table border=\"1\" class=\"dataframe\">\n",
              "  <thead>\n",
              "    <tr style=\"text-align: right;\">\n",
              "      <th></th>\n",
              "      <th>id</th>\n",
              "      <th>perc_premium_paid_by_cash_credit</th>\n",
              "      <th>age_in_days</th>\n",
              "      <th>Income</th>\n",
              "      <th>Count_3-6_months_late</th>\n",
              "      <th>Count_6-12_months_late</th>\n",
              "      <th>Count_more_than_12_months_late</th>\n",
              "      <th>application_underwriting_score</th>\n",
              "      <th>no_of_premiums_paid</th>\n",
              "      <th>sourcing_channel</th>\n",
              "      <th>residence_area_type</th>\n",
              "    </tr>\n",
              "  </thead>\n",
              "  <tbody>\n",
              "    <tr>\n",
              "      <th>34219</th>\n",
              "      <td>81988</td>\n",
              "      <td>0.227</td>\n",
              "      <td>20810</td>\n",
              "      <td>110240</td>\n",
              "      <td>0.0</td>\n",
              "      <td>0.0</td>\n",
              "      <td>0.0</td>\n",
              "      <td>97.52</td>\n",
              "      <td>9</td>\n",
              "      <td>A</td>\n",
              "      <td>Urban</td>\n",
              "    </tr>\n",
              "    <tr>\n",
              "      <th>34220</th>\n",
              "      <td>30326</td>\n",
              "      <td>0.157</td>\n",
              "      <td>19353</td>\n",
              "      <td>125090</td>\n",
              "      <td>0.0</td>\n",
              "      <td>0.0</td>\n",
              "      <td>0.0</td>\n",
              "      <td>99.62</td>\n",
              "      <td>7</td>\n",
              "      <td>A</td>\n",
              "      <td>Rural</td>\n",
              "    </tr>\n",
              "    <tr>\n",
              "      <th>34221</th>\n",
              "      <td>65749</td>\n",
              "      <td>0.325</td>\n",
              "      <td>18264</td>\n",
              "      <td>196570</td>\n",
              "      <td>0.0</td>\n",
              "      <td>0.0</td>\n",
              "      <td>0.0</td>\n",
              "      <td>98.58</td>\n",
              "      <td>14</td>\n",
              "      <td>B</td>\n",
              "      <td>Rural</td>\n",
              "    </tr>\n",
              "    <tr>\n",
              "      <th>34222</th>\n",
              "      <td>65686</td>\n",
              "      <td>0.983</td>\n",
              "      <td>16798</td>\n",
              "      <td>212150</td>\n",
              "      <td>1.0</td>\n",
              "      <td>0.0</td>\n",
              "      <td>1.0</td>\n",
              "      <td>98.88</td>\n",
              "      <td>10</td>\n",
              "      <td>A</td>\n",
              "      <td>Urban</td>\n",
              "    </tr>\n",
              "    <tr>\n",
              "      <th>34223</th>\n",
              "      <td>93826</td>\n",
              "      <td>0.005</td>\n",
              "      <td>24467</td>\n",
              "      <td>89190</td>\n",
              "      <td>1.0</td>\n",
              "      <td>0.0</td>\n",
              "      <td>0.0</td>\n",
              "      <td>98.00</td>\n",
              "      <td>11</td>\n",
              "      <td>A</td>\n",
              "      <td>Urban</td>\n",
              "    </tr>\n",
              "  </tbody>\n",
              "</table>\n",
              "</div>"
            ],
            "text/plain": [
              "          id  perc_premium_paid_by_cash_credit  age_in_days  Income  \\\n",
              "34219  81988                             0.227        20810  110240   \n",
              "34220  30326                             0.157        19353  125090   \n",
              "34221  65749                             0.325        18264  196570   \n",
              "34222  65686                             0.983        16798  212150   \n",
              "34223  93826                             0.005        24467   89190   \n",
              "\n",
              "       Count_3-6_months_late  Count_6-12_months_late  \\\n",
              "34219                    0.0                     0.0   \n",
              "34220                    0.0                     0.0   \n",
              "34221                    0.0                     0.0   \n",
              "34222                    1.0                     0.0   \n",
              "34223                    1.0                     0.0   \n",
              "\n",
              "       Count_more_than_12_months_late  application_underwriting_score  \\\n",
              "34219                             0.0                           97.52   \n",
              "34220                             0.0                           99.62   \n",
              "34221                             0.0                           98.58   \n",
              "34222                             1.0                           98.88   \n",
              "34223                             0.0                           98.00   \n",
              "\n",
              "       no_of_premiums_paid sourcing_channel residence_area_type  \n",
              "34219                    9                A               Urban  \n",
              "34220                    7                A               Rural  \n",
              "34221                   14                B               Rural  \n",
              "34222                   10                A               Urban  \n",
              "34223                   11                A               Urban  "
            ]
          },
          "metadata": {
            "tags": []
          },
          "execution_count": 60
        }
      ]
    },
    {
      "cell_type": "code",
      "metadata": {
        "colab": {
          "base_uri": "https://localhost:8080/"
        },
        "id": "VSmLl4KoTM87",
        "outputId": "62e94e79-e3dc-4e6c-bfe2-03765f2cd72b"
      },
      "source": [
        "test.shape"
      ],
      "execution_count": 61,
      "outputs": [
        {
          "output_type": "execute_result",
          "data": {
            "text/plain": [
              "(34224, 11)"
            ]
          },
          "metadata": {
            "tags": []
          },
          "execution_count": 61
        }
      ]
    },
    {
      "cell_type": "code",
      "metadata": {
        "colab": {
          "base_uri": "https://localhost:8080/"
        },
        "id": "E9ypRliMTOZ0",
        "outputId": "4ea760b9-3e2d-4e9e-c5a8-5a137d7b2aec"
      },
      "source": [
        "test.isnull().sum()"
      ],
      "execution_count": 62,
      "outputs": [
        {
          "output_type": "execute_result",
          "data": {
            "text/plain": [
              "id                                     0\n",
              "perc_premium_paid_by_cash_credit       0\n",
              "age_in_days                            0\n",
              "Income                                 0\n",
              "Count_3-6_months_late                 31\n",
              "Count_6-12_months_late                31\n",
              "Count_more_than_12_months_late        31\n",
              "application_underwriting_score      1323\n",
              "no_of_premiums_paid                    0\n",
              "sourcing_channel                       0\n",
              "residence_area_type                    0\n",
              "dtype: int64"
            ]
          },
          "metadata": {
            "tags": []
          },
          "execution_count": 62
        }
      ]
    },
    {
      "cell_type": "code",
      "metadata": {
        "id": "rzxouSkJTSur"
      },
      "source": [
        "\n",
        "# again doing the same like what I did with the train dataset\n",
        "# same coz, the same features have the values missing\n",
        "\n",
        "test['application_underwriting_score'] = test['application_underwriting_score'].fillna(\n",
        "    test['application_underwriting_score'].mean())\n",
        "\n",
        "test['Count_3-6_months_late'] = test['Count_3-6_months_late'].fillna(\n",
        "    test['Count_3-6_months_late'].median())\n",
        "\n",
        "test['Count_6-12_months_late'] = test['Count_6-12_months_late'].fillna(\n",
        "    test['Count_6-12_months_late'].median())\n",
        "\n",
        "test['Count_more_than_12_months_late'] = test['Count_more_than_12_months_late'].fillna(\n",
        "    test['Count_more_than_12_months_late'].median()) "
      ],
      "execution_count": 63,
      "outputs": []
    },
    {
      "cell_type": "code",
      "metadata": {
        "colab": {
          "base_uri": "https://localhost:8080/"
        },
        "id": "BwgQiW6lmkhx",
        "outputId": "626ff36f-ec81-4032-dc31-96778809b187"
      },
      "source": [
        "test.shape"
      ],
      "execution_count": 64,
      "outputs": [
        {
          "output_type": "execute_result",
          "data": {
            "text/plain": [
              "(34224, 11)"
            ]
          },
          "metadata": {
            "tags": []
          },
          "execution_count": 64
        }
      ]
    },
    {
      "cell_type": "code",
      "metadata": {
        "colab": {
          "base_uri": "https://localhost:8080/",
          "height": 449
        },
        "id": "kPJBhGA3T2f2",
        "outputId": "781b4c53-964a-4a7a-d5ed-5709744466eb"
      },
      "source": [
        "sns.heatmap(test.isnull(), yticklabels=False, cbar=False)"
      ],
      "execution_count": 65,
      "outputs": [
        {
          "output_type": "execute_result",
          "data": {
            "text/plain": [
              "<matplotlib.axes._subplots.AxesSubplot at 0x7f7a227c8f10>"
            ]
          },
          "metadata": {
            "tags": []
          },
          "execution_count": 65
        },
        {
          "output_type": "display_data",
          "data": {
            "image/png": "[encoded data removed]",
            "text/plain": [
              "<Figure size 432x288 with 1 Axes>"
            ]
          },
          "metadata": {
            "tags": [],
            "needs_background": "light"
          }
        }
      ]
    },
    {
      "cell_type": "code",
      "metadata": {
        "colab": {
          "base_uri": "https://localhost:8080/"
        },
        "id": "P_Ay4e4GlamE",
        "outputId": "ed087d82-9d10-4289-f60c-63462513411e"
      },
      "source": [
        "test.isnull().sum()"
      ],
      "execution_count": 66,
      "outputs": [
        {
          "output_type": "execute_result",
          "data": {
            "text/plain": [
              "id                                  0\n",
              "perc_premium_paid_by_cash_credit    0\n",
              "age_in_days                         0\n",
              "Income                              0\n",
              "Count_3-6_months_late               0\n",
              "Count_6-12_months_late              0\n",
              "Count_more_than_12_months_late      0\n",
              "application_underwriting_score      0\n",
              "no_of_premiums_paid                 0\n",
              "sourcing_channel                    0\n",
              "residence_area_type                 0\n",
              "dtype: int64"
            ]
          },
          "metadata": {
            "tags": []
          },
          "execution_count": 66
        }
      ]
    },
    {
      "cell_type": "code",
      "metadata": {
        "colab": {
          "base_uri": "https://localhost:8080/"
        },
        "id": "MboCY3zIT7nt",
        "outputId": "45c6e1fd-4a21-405a-9200-8ff1c4ea1053"
      },
      "source": [
        "# dropping the id column from from both the train and test data set\n",
        "\n",
        "train.drop('id', axis=1, inplace=True)\n",
        "test.drop('id', axis=1, inplace=True)\n",
        "train.shape, test.shape"
      ],
      "execution_count": 67,
      "outputs": [
        {
          "output_type": "execute_result",
          "data": {
            "text/plain": [
              "((79853, 11), (34224, 10))"
            ]
          },
          "metadata": {
            "tags": []
          },
          "execution_count": 67
        }
      ]
    },
    {
      "cell_type": "code",
      "metadata": {
        "colab": {
          "base_uri": "https://localhost:8080/"
        },
        "id": "Uydu-cauX_wI",
        "outputId": "695c64a2-ee49-4d46-9f77-d9811806eb36"
      },
      "source": [
        "# splitting into dependent and independent features\n",
        "\n",
        "x = train.drop(['target'], axis=1)\n",
        "y = train['target']\n",
        "x.shape, y.shape"
      ],
      "execution_count": 70,
      "outputs": [
        {
          "output_type": "execute_result",
          "data": {
            "text/plain": [
              "((79853, 10), (79853,))"
            ]
          },
          "metadata": {
            "tags": []
          },
          "execution_count": 70
        }
      ]
    },
    {
      "cell_type": "code",
      "metadata": {
        "colab": {
          "base_uri": "https://localhost:8080/"
        },
        "id": "XBFl-mYhUwmN",
        "outputId": "82233af3-5b04-49f2-c49a-f7a3c31afd9d"
      },
      "source": [
        "# one-hot catogorical columns\n",
        "x = pd.concat([x, pd.get_dummies(train[['sourcing_channel', \n",
        "                                               'residence_area_type']])],axis=1)\n",
        "x.drop(['sourcing_channel', 'residence_area_type'], axis=1, inplace=True)\n",
        "x.isnull().sum()"
      ],
      "execution_count": 71,
      "outputs": [
        {
          "output_type": "execute_result",
          "data": {
            "text/plain": [
              "perc_premium_paid_by_cash_credit    0\n",
              "age_in_days                         0\n",
              "Income                              0\n",
              "Count_3-6_months_late               0\n",
              "Count_6-12_months_late              0\n",
              "Count_more_than_12_months_late      0\n",
              "application_underwriting_score      0\n",
              "no_of_premiums_paid                 0\n",
              "sourcing_channel_A                  0\n",
              "sourcing_channel_B                  0\n",
              "sourcing_channel_C                  0\n",
              "sourcing_channel_D                  0\n",
              "sourcing_channel_E                  0\n",
              "residence_area_type_Rural           0\n",
              "residence_area_type_Urban           0\n",
              "dtype: int64"
            ]
          },
          "metadata": {
            "tags": []
          },
          "execution_count": 71
        }
      ]
    },
    {
      "cell_type": "code",
      "metadata": {
        "colab": {
          "base_uri": "https://localhost:8080/",
          "height": 217
        },
        "id": "KrqtWPMOuNs4",
        "outputId": "7e3ec9f6-677f-4a0b-e56e-b949b1b263b9"
      },
      "source": [
        "from sklearn.preprocessing import StandardScaler\n",
        "\n",
        "# define standard scaler\n",
        "scaler = StandardScaler()\n",
        "# transform data\n",
        "x = pd.DataFrame(scaler.fit_transform(x))\n",
        "x.head()"
      ],
      "execution_count": 72,
      "outputs": [
        {
          "output_type": "execute_result",
          "data": {
            "text/html": [
              "<div>\n",
              "<style scoped>\n",
              "    .dataframe tbody tr th:only-of-type {\n",
              "        vertical-align: middle;\n",
              "    }\n",
              "\n",
              "    .dataframe tbody tr th {\n",
              "        vertical-align: top;\n",
              "    }\n",
              "\n",
              "    .dataframe thead th {\n",
              "        text-align: right;\n",
              "    }\n",
              "</style>\n",
              "<table border=\"1\" class=\"dataframe\">\n",
              "  <thead>\n",
              "    <tr style=\"text-align: right;\">\n",
              "      <th></th>\n",
              "      <th>0</th>\n",
              "      <th>1</th>\n",
              "      <th>2</th>\n",
              "      <th>3</th>\n",
              "      <th>4</th>\n",
              "      <th>5</th>\n",
              "      <th>6</th>\n",
              "      <th>7</th>\n",
              "      <th>8</th>\n",
              "      <th>9</th>\n",
              "      <th>10</th>\n",
              "      <th>11</th>\n",
              "      <th>12</th>\n",
              "      <th>13</th>\n",
              "      <th>14</th>\n",
              "    </tr>\n",
              "  </thead>\n",
              "  <tbody>\n",
              "    <tr>\n",
              "      <th>0</th>\n",
              "      <td>0.608237</td>\n",
              "      <td>-1.335767</td>\n",
              "      <td>1.175218</td>\n",
              "      <td>-0.359383</td>\n",
              "      <td>-0.179012</td>\n",
              "      <td>-0.192199</td>\n",
              "      <td>-0.428612</td>\n",
              "      <td>0.590895</td>\n",
              "      <td>-1.083838</td>\n",
              "      <td>-0.510572</td>\n",
              "      <td>2.373365</td>\n",
              "      <td>-0.323356</td>\n",
              "      <td>-0.087665</td>\n",
              "      <td>-0.810732</td>\n",
              "      <td>0.810732</td>\n",
              "    </tr>\n",
              "    <tr>\n",
              "      <th>1</th>\n",
              "      <td>-1.128120</td>\n",
              "      <td>0.596353</td>\n",
              "      <td>0.994698</td>\n",
              "      <td>-0.359383</td>\n",
              "      <td>-0.179012</td>\n",
              "      <td>-0.192199</td>\n",
              "      <td>1.935358</td>\n",
              "      <td>1.628640</td>\n",
              "      <td>0.922647</td>\n",
              "      <td>-0.510572</td>\n",
              "      <td>-0.421343</td>\n",
              "      <td>-0.323356</td>\n",
              "      <td>-0.087665</td>\n",
              "      <td>-0.810732</td>\n",
              "      <td>0.810732</td>\n",
              "    </tr>\n",
              "    <tr>\n",
              "      <th>2</th>\n",
              "      <td>1.555038</td>\n",
              "      <td>-0.221255</td>\n",
              "      <td>-1.004563</td>\n",
              "      <td>2.534563</td>\n",
              "      <td>6.697811</td>\n",
              "      <td>3.014592</td>\n",
              "      <td>-0.907703</td>\n",
              "      <td>-0.693968</td>\n",
              "      <td>-1.083838</td>\n",
              "      <td>-0.510572</td>\n",
              "      <td>2.373365</td>\n",
              "      <td>-0.323356</td>\n",
              "      <td>-0.087665</td>\n",
              "      <td>1.233454</td>\n",
              "      <td>-1.233454</td>\n",
              "    </tr>\n",
              "    <tr>\n",
              "      <th>3</th>\n",
              "      <td>-0.748425</td>\n",
              "      <td>-0.667223</td>\n",
              "      <td>0.647173</td>\n",
              "      <td>-0.359383</td>\n",
              "      <td>-0.179012</td>\n",
              "      <td>-0.192199</td>\n",
              "      <td>0.821207</td>\n",
              "      <td>-0.181636</td>\n",
              "      <td>0.922647</td>\n",
              "      <td>-0.510572</td>\n",
              "      <td>-0.421343</td>\n",
              "      <td>-0.323356</td>\n",
              "      <td>-0.087665</td>\n",
              "      <td>-0.810732</td>\n",
              "      <td>0.810732</td>\n",
              "    </tr>\n",
              "    <tr>\n",
              "      <th>4</th>\n",
              "      <td>-0.727539</td>\n",
              "      <td>0.046671</td>\n",
              "      <td>0.296236</td>\n",
              "      <td>-0.359383</td>\n",
              "      <td>-0.179012</td>\n",
              "      <td>-0.192199</td>\n",
              "      <td>1.854797</td>\n",
              "      <td>0.420745</td>\n",
              "      <td>-1.083838</td>\n",
              "      <td>1.958586</td>\n",
              "      <td>-0.421343</td>\n",
              "      <td>-0.323356</td>\n",
              "      <td>-0.087665</td>\n",
              "      <td>-0.810732</td>\n",
              "      <td>0.810732</td>\n",
              "    </tr>\n",
              "  </tbody>\n",
              "</table>\n",
              "</div>"
            ],
            "text/plain": [
              "         0         1         2         3         4         5         6   \\\n",
              "0  0.608237 -1.335767  1.175218 -0.359383 -0.179012 -0.192199 -0.428612   \n",
              "1 -1.128120  0.596353  0.994698 -0.359383 -0.179012 -0.192199  1.935358   \n",
              "2  1.555038 -0.221255 -1.004563  2.534563  6.697811  3.014592 -0.907703   \n",
              "3 -0.748425 -0.667223  0.647173 -0.359383 -0.179012 -0.192199  0.821207   \n",
              "4 -0.727539  0.046671  0.296236 -0.359383 -0.179012 -0.192199  1.854797   \n",
              "\n",
              "         7         8         9         10        11        12        13  \\\n",
              "0  0.590895 -1.083838 -0.510572  2.373365 -0.323356 -0.087665 -0.810732   \n",
              "1  1.628640  0.922647 -0.510572 -0.421343 -0.323356 -0.087665 -0.810732   \n",
              "2 -0.693968 -1.083838 -0.510572  2.373365 -0.323356 -0.087665  1.233454   \n",
              "3 -0.181636  0.922647 -0.510572 -0.421343 -0.323356 -0.087665 -0.810732   \n",
              "4  0.420745 -1.083838  1.958586 -0.421343 -0.323356 -0.087665 -0.810732   \n",
              "\n",
              "         14  \n",
              "0  0.810732  \n",
              "1  0.810732  \n",
              "2 -1.233454  \n",
              "3  0.810732  \n",
              "4  0.810732  "
            ]
          },
          "metadata": {
            "tags": []
          },
          "execution_count": 72
        }
      ]
    },
    {
      "cell_type": "code",
      "metadata": {
        "colab": {
          "base_uri": "https://localhost:8080/"
        },
        "id": "7ARXpPyhfoxu",
        "outputId": "02d8fa56-6474-4e08-9efb-dd17fbb2d356"
      },
      "source": [
        "x.shape"
      ],
      "execution_count": 73,
      "outputs": [
        {
          "output_type": "execute_result",
          "data": {
            "text/plain": [
              "(79853, 15)"
            ]
          },
          "metadata": {
            "tags": []
          },
          "execution_count": 73
        }
      ]
    },
    {
      "cell_type": "code",
      "metadata": {
        "colab": {
          "base_uri": "https://localhost:8080/"
        },
        "id": "SgzlvGtd_FK7",
        "outputId": "e1975706-fb5f-4783-b557-a75ec970d4e3"
      },
      "source": [
        "from sklearn.model_selection import train_test_split\n",
        "x_train, x_test, y_train, y_test = train_test_split(x, y, test_size=0.2, \n",
        "                                                    random_state=4,\n",
        "                                                    stratify=y)\n",
        "x_train.shape, x_test.shape, y_train.shape, y_test.shape"
      ],
      "execution_count": 80,
      "outputs": [
        {
          "output_type": "execute_result",
          "data": {
            "text/plain": [
              "((63882, 15), (15971, 15), (63882,), (15971,))"
            ]
          },
          "metadata": {
            "tags": []
          },
          "execution_count": 80
        }
      ]
    },
    {
      "cell_type": "code",
      "metadata": {
        "colab": {
          "base_uri": "https://localhost:8080/"
        },
        "id": "y_nJvNw4Xuty",
        "outputId": "12c6956a-c8e0-4296-a29b-45be25e88e31"
      },
      "source": [
        "test = pd.concat([test, pd.get_dummies(test[['sourcing_channel', \n",
        "                                              'residence_area_type']])],axis=1)\n",
        "test.drop(['sourcing_channel', 'residence_area_type'], axis=1, inplace=True)\n",
        "test.isnull().sum()"
      ],
      "execution_count": 75,
      "outputs": [
        {
          "output_type": "execute_result",
          "data": {
            "text/plain": [
              "perc_premium_paid_by_cash_credit    0\n",
              "age_in_days                         0\n",
              "Income                              0\n",
              "Count_3-6_months_late               0\n",
              "Count_6-12_months_late              0\n",
              "Count_more_than_12_months_late      0\n",
              "application_underwriting_score      0\n",
              "no_of_premiums_paid                 0\n",
              "sourcing_channel_A                  0\n",
              "sourcing_channel_B                  0\n",
              "sourcing_channel_C                  0\n",
              "sourcing_channel_D                  0\n",
              "sourcing_channel_E                  0\n",
              "residence_area_type_Rural           0\n",
              "residence_area_type_Urban           0\n",
              "dtype: int64"
            ]
          },
          "metadata": {
            "tags": []
          },
          "execution_count": 75
        }
      ]
    },
    {
      "cell_type": "code",
      "metadata": {
        "id": "5k_KNy-KuXOO"
      },
      "source": [
        "# transform data\n",
        "test = pd.DataFrame(scaler.transform(test))"
      ],
      "execution_count": 76,
      "outputs": []
    },
    {
      "cell_type": "markdown",
      "metadata": {
        "id": "0owUY8y4dqVn"
      },
      "source": [
        "# Models\n",
        "## Logistic Regression"
      ]
    },
    {
      "cell_type": "code",
      "metadata": {
        "colab": {
          "base_uri": "https://localhost:8080/",
          "height": 620
        },
        "id": "DGUFgZehdp6P",
        "outputId": "e1fd458e-32e0-47a9-cff5-74b10faa7810"
      },
      "source": [
        "from sklearn.linear_model import LogisticRegression\n",
        "from sklearn.metrics import confusion_matrix, plot_confusion_matrix, classification_report\n",
        "from sklearn.model_selection import cross_val_score\n",
        "\n",
        "logr = LogisticRegression(max_iter=250)\n",
        "\n",
        "logr.fit(x_train, y_train)\n",
        "\n",
        "cross_val = (cross_val_score(logr, x_train, y_train, cv=5))\n",
        "\n",
        "pred1 = logr.predict(x_test)\n",
        "\n",
        "cfr = classification_report(y_test, pred1)\n",
        "\n",
        "print('\\nMean cross validation score ',np.mean(cross_val))\n",
        "\n",
        "print('\\nAccuracy on test data ', logr.score(x_test,y_test))\n",
        "\n",
        "print('\\nAccuracy on train data ', logr.score(x_train,y_train))\n",
        "\n",
        "print('\\n')\n",
        "\n",
        "print(plot_confusion_matrix(logr,x_test, y_test,values_format='0.3g'))\n",
        "\n",
        "print('\\nClassification Report :\\n',cfr)"
      ],
      "execution_count": 85,
      "outputs": [
        {
          "output_type": "stream",
          "text": [
            "\n",
            "Mean cross validation score  0.939591756261704\n",
            "\n",
            "Accuracy on test data  0.9378248074635277\n",
            "\n",
            "Accuracy on train data  0.9397482859021321\n",
            "\n",
            "\n",
            "<sklearn.metrics._plot.confusion_matrix.ConfusionMatrixDisplay object at 0x7f7a221293d0>\n",
            "\n",
            "Classification Report :\n",
            "               precision    recall  f1-score   support\n",
            "\n",
            "           0       0.51      0.12      0.20      1000\n",
            "           1       0.94      0.99      0.97     14971\n",
            "\n",
            "    accuracy                           0.94     15971\n",
            "   macro avg       0.73      0.56      0.58     15971\n",
            "weighted avg       0.92      0.94      0.92     15971\n",
            "\n"
          ],
          "name": "stdout"
        },
        {
          "output_type": "display_data",
          "data": {
            "image/png": "[encoded data removed]",
            "text/plain": [
              "<Figure size 432x288 with 2 Axes>"
            ]
          },
          "metadata": {
            "tags": [],
            "needs_background": "light"
          }
        }
      ]
    },
    {
      "cell_type": "markdown",
      "metadata": {
        "id": "wW1LHqr-plTi"
      },
      "source": [
        "## Decision Tree"
      ]
    },
    {
      "cell_type": "code",
      "metadata": {
        "id": "Yjfvp36Yoptx",
        "colab": {
          "base_uri": "https://localhost:8080/",
          "height": 622
        },
        "outputId": "1368c651-dded-458f-d646-35a4132629be"
      },
      "source": [
        "from sklearn.tree import DecisionTreeClassifier\n",
        "\n",
        "dt = DecisionTreeClassifier(random_state=4)\n",
        "\n",
        "dt.fit(x_train, y_train)\n",
        "\n",
        "cross_val = (cross_val_score(dt, x_train, y_train, cv=5))\n",
        "\n",
        "pred2 = dt.predict(x_test)\n",
        "\n",
        "print('\\nMean cross validation score ',np.mean(cross_val))\n",
        "\n",
        "print('\\nAccuracy on train data ', dt.score(x_train,y_train))\n",
        "\n",
        "print('\\nAccuracy on test data ', dt.score(x_test,y_test))\n",
        "\n",
        "print('\\n')\n",
        "\n",
        "print(plot_confusion_matrix(dt,x_test, y_test,values_format='0.3g'))\n",
        "\n",
        "cfr = classification_report(y_test, pred2)\n",
        "print('\\nClassification Report :\\n',cfr)"
      ],
      "execution_count": 87,
      "outputs": [
        {
          "output_type": "stream",
          "text": [
            "\n",
            "Mean cross validation score  0.8986100217060937\n",
            "\n",
            "Accuracy on train data  1.0\n",
            "\n",
            "Accuracy on test data  0.8958111577233736\n",
            "\n",
            "\n",
            "<sklearn.metrics._plot.confusion_matrix.ConfusionMatrixDisplay object at 0x7f7a42f67890>\n",
            "\n",
            "Classification Report :\n",
            "               precision    recall  f1-score   support\n",
            "\n",
            "           0       0.21      0.24      0.22      1000\n",
            "           1       0.95      0.94      0.94     14971\n",
            "\n",
            "    accuracy                           0.90     15971\n",
            "   macro avg       0.58      0.59      0.58     15971\n",
            "weighted avg       0.90      0.90      0.90     15971\n",
            "\n"
          ],
          "name": "stdout"
        },
        {
          "output_type": "display_data",
          "data": {
            "image/png": "[encoded data removed]",
            "text/plain": [
              "<Figure size 432x288 with 2 Axes>"
            ]
          },
          "metadata": {
            "tags": [],
            "needs_background": "light"
          }
        }
      ]
    },
    {
      "cell_type": "markdown",
      "metadata": {
        "id": "wEFYw5Ab37_w"
      },
      "source": [
        "## K-means"
      ]
    },
    {
      "cell_type": "code",
      "metadata": {
        "id": "Csh6AJDh4EX3",
        "colab": {
          "base_uri": "https://localhost:8080/"
        },
        "outputId": "69468b3a-063a-4eea-9f66-27e6b41f9b79"
      },
      "source": [
        "from sklearn.cluster import KMeans\n",
        "\n",
        "kmeans = KMeans(n_clusters=2)\n",
        "\n",
        "kmeans.fit(x_train, y_train)\n",
        "\n",
        "cross_val = (cross_val_score(kmeans, x_train, y_train, cv=5))\n",
        "\n",
        "pred3 = kmeans.predict(x_test)\n",
        "\n",
        "print('\\nMean cross validation score ',np.mean(cross_val))\n",
        "\n",
        "print('\\nAccuracy on train data ', kmeans.score(x_train,y_train))\n",
        "\n",
        "print('\\nAccuracy on test data ', kmeans.score(x_test,y_test))\n",
        "\n",
        "print('\\n')\n",
        "\n",
        "# print(plot_confusion_matrix(kmeans, x_test, y_test, values_format='0.3g'))\n",
        "\n",
        "cfr = classification_report(y_test, pred3)\n",
        "print('\\nClassification Report :\\n',cfr)"
      ],
      "execution_count": 90,
      "outputs": [
        {
          "output_type": "stream",
          "text": [
            "\n",
            "Mean cross validation score  -165583.36251008505\n",
            "\n",
            "Accuracy on train data  -827852.3400602594\n",
            "\n",
            "Accuracy on test data  -210230.24029989514\n",
            "\n",
            "\n",
            "\n",
            "Classification Report :\n",
            "               precision    recall  f1-score   support\n",
            "\n",
            "           0       0.06      0.62      0.12      1000\n",
            "           1       0.94      0.40      0.56     14971\n",
            "\n",
            "    accuracy                           0.41     15971\n",
            "   macro avg       0.50      0.51      0.34     15971\n",
            "weighted avg       0.88      0.41      0.53     15971\n",
            "\n"
          ],
          "name": "stdout"
        }
      ]
    },
    {
      "cell_type": "code",
      "metadata": {
        "id": "2qFqn_BY43cV",
        "colab": {
          "base_uri": "https://localhost:8080/"
        },
        "outputId": "2ed59264-8c01-4f57-b414-587c787f2a8b"
      },
      "source": [
        "kmeans.inertia_"
      ],
      "execution_count": 91,
      "outputs": [
        {
          "output_type": "execute_result",
          "data": {
            "text/plain": [
              "827852.3400602599"
            ]
          },
          "metadata": {
            "tags": []
          },
          "execution_count": 91
        }
      ]
    },
    {
      "cell_type": "code",
      "metadata": {
        "id": "sMweKC7D5UwL"
      },
      "source": [
        "SSE = []\n",
        "\n",
        "for cluster in range(1,20):\n",
        "  kmeans = KMeans(n_jobs=-1, n_clusters=cluster)\n",
        "  kmeans.fit(x_train, y_train)\n",
        "  SSE.append(kmeans.inertia_)"
      ],
      "execution_count": 93,
      "outputs": []
    },
    {
      "cell_type": "code",
      "metadata": {
        "id": "5Mwl5mMw5zp4",
        "colab": {
          "base_uri": "https://localhost:8080/",
          "height": 615
        },
        "outputId": "113798f8-816e-4610-9051-c4b32ac258bd"
      },
      "source": [
        "frame = pd.DataFrame({'cluster': range(1,20), \n",
        "                      'SSE': SSE})\n",
        "frame"
      ],
      "execution_count": 94,
      "outputs": [
        {
          "output_type": "execute_result",
          "data": {
            "text/html": [
              "<div>\n",
              "<style scoped>\n",
              "    .dataframe tbody tr th:only-of-type {\n",
              "        vertical-align: middle;\n",
              "    }\n",
              "\n",
              "    .dataframe tbody tr th {\n",
              "        vertical-align: top;\n",
              "    }\n",
              "\n",
              "    .dataframe thead th {\n",
              "        text-align: right;\n",
              "    }\n",
              "</style>\n",
              "<table border=\"1\" class=\"dataframe\">\n",
              "  <thead>\n",
              "    <tr style=\"text-align: right;\">\n",
              "      <th></th>\n",
              "      <th>cluster</th>\n",
              "      <th>SSE</th>\n",
              "    </tr>\n",
              "  </thead>\n",
              "  <tbody>\n",
              "    <tr>\n",
              "      <th>0</th>\n",
              "      <td>1</td>\n",
              "      <td>955663.473983</td>\n",
              "    </tr>\n",
              "    <tr>\n",
              "      <th>1</th>\n",
              "      <td>2</td>\n",
              "      <td>827852.340060</td>\n",
              "    </tr>\n",
              "    <tr>\n",
              "      <th>2</th>\n",
              "      <td>3</td>\n",
              "      <td>760615.110314</td>\n",
              "    </tr>\n",
              "    <tr>\n",
              "      <th>3</th>\n",
              "      <td>4</td>\n",
              "      <td>693397.639229</td>\n",
              "    </tr>\n",
              "    <tr>\n",
              "      <th>4</th>\n",
              "      <td>5</td>\n",
              "      <td>624213.860920</td>\n",
              "    </tr>\n",
              "    <tr>\n",
              "      <th>5</th>\n",
              "      <td>6</td>\n",
              "      <td>572191.855532</td>\n",
              "    </tr>\n",
              "    <tr>\n",
              "      <th>6</th>\n",
              "      <td>7</td>\n",
              "      <td>507667.443017</td>\n",
              "    </tr>\n",
              "    <tr>\n",
              "      <th>7</th>\n",
              "      <td>8</td>\n",
              "      <td>482223.109362</td>\n",
              "    </tr>\n",
              "    <tr>\n",
              "      <th>8</th>\n",
              "      <td>9</td>\n",
              "      <td>457960.252269</td>\n",
              "    </tr>\n",
              "    <tr>\n",
              "      <th>9</th>\n",
              "      <td>10</td>\n",
              "      <td>439288.055384</td>\n",
              "    </tr>\n",
              "    <tr>\n",
              "      <th>10</th>\n",
              "      <td>11</td>\n",
              "      <td>417806.346641</td>\n",
              "    </tr>\n",
              "    <tr>\n",
              "      <th>11</th>\n",
              "      <td>12</td>\n",
              "      <td>398227.278061</td>\n",
              "    </tr>\n",
              "    <tr>\n",
              "      <th>12</th>\n",
              "      <td>13</td>\n",
              "      <td>387938.695729</td>\n",
              "    </tr>\n",
              "    <tr>\n",
              "      <th>13</th>\n",
              "      <td>14</td>\n",
              "      <td>371995.313710</td>\n",
              "    </tr>\n",
              "    <tr>\n",
              "      <th>14</th>\n",
              "      <td>15</td>\n",
              "      <td>356764.598172</td>\n",
              "    </tr>\n",
              "    <tr>\n",
              "      <th>15</th>\n",
              "      <td>16</td>\n",
              "      <td>349725.264291</td>\n",
              "    </tr>\n",
              "    <tr>\n",
              "      <th>16</th>\n",
              "      <td>17</td>\n",
              "      <td>344247.948124</td>\n",
              "    </tr>\n",
              "    <tr>\n",
              "      <th>17</th>\n",
              "      <td>18</td>\n",
              "      <td>336899.863152</td>\n",
              "    </tr>\n",
              "    <tr>\n",
              "      <th>18</th>\n",
              "      <td>19</td>\n",
              "      <td>328506.212649</td>\n",
              "    </tr>\n",
              "  </tbody>\n",
              "</table>\n",
              "</div>"
            ],
            "text/plain": [
              "    cluster            SSE\n",
              "0         1  955663.473983\n",
              "1         2  827852.340060\n",
              "2         3  760615.110314\n",
              "3         4  693397.639229\n",
              "4         5  624213.860920\n",
              "5         6  572191.855532\n",
              "6         7  507667.443017\n",
              "7         8  482223.109362\n",
              "8         9  457960.252269\n",
              "9        10  439288.055384\n",
              "10       11  417806.346641\n",
              "11       12  398227.278061\n",
              "12       13  387938.695729\n",
              "13       14  371995.313710\n",
              "14       15  356764.598172\n",
              "15       16  349725.264291\n",
              "16       17  344247.948124\n",
              "17       18  336899.863152\n",
              "18       19  328506.212649"
            ]
          },
          "metadata": {
            "tags": []
          },
          "execution_count": 94
        }
      ]
    },
    {
      "cell_type": "code",
      "metadata": {
        "id": "1pmEB7RE6Ef4",
        "colab": {
          "base_uri": "https://localhost:8080/",
          "height": 458
        },
        "outputId": "899bc254-b885-47d1-8bf4-98eb0ef6322f"
      },
      "source": [
        "plt.figure(figsize=(12,7))\n",
        "plt.plot(frame['cluster'], frame['SSE'], marker='o')\n",
        "plt.xlabel('Cluster')\n",
        "plt.ylabel('SSE')"
      ],
      "execution_count": 95,
      "outputs": [
        {
          "output_type": "execute_result",
          "data": {
            "text/plain": [
              "Text(0, 0.5, 'SSE')"
            ]
          },
          "metadata": {
            "tags": []
          },
          "execution_count": 95
        },
        {
          "output_type": "display_data",
          "data": {
            "image/png": "[encoded data removed]",
            "text/plain": [
              "<Figure size 864x504 with 1 Axes>"
            ]
          },
          "metadata": {
            "tags": [],
            "needs_background": "light"
          }
        }
      ]
    },
    {
      "cell_type": "code",
      "metadata": {
        "id": "tAvuO0gh7ucB",
        "colab": {
          "base_uri": "https://localhost:8080/"
        },
        "outputId": "47cd6938-bb57-405f-bb34-f0f49d308b42"
      },
      "source": [
        "kmeans = KMeans(n_clusters=4)\n",
        "\n",
        "kmeans.fit(x_train, y_train)\n",
        "\n",
        "cross_val = (cross_val_score(kmeans, x_train, y_train, cv=5))\n",
        "\n",
        "pred4 = kmeans.predict(x_test)\n",
        "\n",
        "print('\\nMean cross validation score ',np.mean(cross_val))\n",
        "\n",
        "print('\\nAccuracy on train data ', kmeans.score(x_train,y_train))\n",
        "\n",
        "print('\\nAccuracy on test data ', kmeans.score(x_test,y_test))\n",
        "\n",
        "print('\\n')\n",
        "\n",
        "# print(plot_confusion_matrix(logr,x_test, y_test,values_format='0.3g'))\n",
        "\n",
        "cfr = classification_report(y_test, pred4)\n",
        "print('\\nClassification Report :\\n',cfr)"
      ],
      "execution_count": 107,
      "outputs": [
        {
          "output_type": "stream",
          "text": [
            "\n",
            "Mean cross validation score  -139200.68607968904\n",
            "\n",
            "Accuracy on train data  -695754.5086404333\n",
            "\n",
            "Accuracy on test data  -177325.45402827483\n",
            "\n",
            "\n",
            "\n",
            "Classification Report :\n",
            "               precision    recall  f1-score   support\n",
            "\n",
            "           0       0.08      0.12      0.10      1000\n",
            "           1       0.94      0.46      0.62     14971\n",
            "           2       0.00      0.00      0.00         0\n",
            "           3       0.00      0.00      0.00         0\n",
            "\n",
            "    accuracy                           0.44     15971\n",
            "   macro avg       0.26      0.15      0.18     15971\n",
            "weighted avg       0.89      0.44      0.58     15971\n",
            "\n"
          ],
          "name": "stdout"
        },
        {
          "output_type": "stream",
          "text": [
            "/usr/local/lib/python3.7/dist-packages/sklearn/metrics/_classification.py:1272: UndefinedMetricWarning: Recall and F-score are ill-defined and being set to 0.0 in labels with no true samples. Use `zero_division` parameter to control this behavior.\n",
            "  _warn_prf(average, modifier, msg_start, len(result))\n"
          ],
          "name": "stderr"
        }
      ]
    },
    {
      "cell_type": "markdown",
      "metadata": {
        "id": "gLHEtIXMDlK6"
      },
      "source": [
        "# Evaluation\n",
        "\n"
      ]
    },
    {
      "cell_type": "code",
      "metadata": {
        "colab": {
          "base_uri": "https://localhost:8080/",
          "height": 137
        },
        "id": "q5uVebPgDkBc",
        "outputId": "16d1d6fe-8c82-4760-db4c-2914d91285e5"
      },
      "source": [
        "from sklearn.metrics import accuracy_score\n",
        "score1 = accuracy_score(y_test, pred1)\n",
        "score2 = accuracy_score(y_test, pred2)\n",
        "score3 = accuracy_score(y_test, pred4)\n",
        "\n",
        "results = pd.DataFrame([\n",
        "                        ['LogisticRegression', score1],\n",
        "                        ['DecisionTree', score2],\n",
        "                        ['Kmeans', score3]\n",
        "])\n",
        "results"
      ],
      "execution_count": 108,
      "outputs": [
        {
          "output_type": "execute_result",
          "data": {
            "text/html": [
              "<div>\n",
              "<style scoped>\n",
              "    .dataframe tbody tr th:only-of-type {\n",
              "        vertical-align: middle;\n",
              "    }\n",
              "\n",
              "    .dataframe tbody tr th {\n",
              "        vertical-align: top;\n",
              "    }\n",
              "\n",
              "    .dataframe thead th {\n",
              "        text-align: right;\n",
              "    }\n",
              "</style>\n",
              "<table border=\"1\" class=\"dataframe\">\n",
              "  <thead>\n",
              "    <tr style=\"text-align: right;\">\n",
              "      <th></th>\n",
              "      <th>0</th>\n",
              "      <th>1</th>\n",
              "    </tr>\n",
              "  </thead>\n",
              "  <tbody>\n",
              "    <tr>\n",
              "      <th>0</th>\n",
              "      <td>LogisticRegression</td>\n",
              "      <td>0.937825</td>\n",
              "    </tr>\n",
              "    <tr>\n",
              "      <th>1</th>\n",
              "      <td>DecisionTree</td>\n",
              "      <td>0.895811</td>\n",
              "    </tr>\n",
              "    <tr>\n",
              "      <th>2</th>\n",
              "      <td>Kmeans</td>\n",
              "      <td>0.437731</td>\n",
              "    </tr>\n",
              "  </tbody>\n",
              "</table>\n",
              "</div>"
            ],
            "text/plain": [
              "                    0         1\n",
              "0  LogisticRegression  0.937825\n",
              "1        DecisionTree  0.895811\n",
              "2              Kmeans  0.437731"
            ]
          },
          "metadata": {
            "tags": []
          },
          "execution_count": 108
        }
      ]
    },
    {
      "cell_type": "code",
      "metadata": {
        "id": "MooCdVja2RBg",
        "colab": {
          "base_uri": "https://localhost:8080/",
          "height": 197
        },
        "outputId": "c480c22c-77fb-4063-b116-ee128598ad0d"
      },
      "source": [
        "# submitting\n",
        "pred_test = logr.predict(test)\n",
        "pred = pd.DataFrame(pred_test)\n",
        "sub_df = pd.read_csv('/content/sample_data/sample_submission.csv')\n",
        "datasets = pd.concat([sub_df['id'], pred], axis=1)\n",
        "datasets.columns = ['id', 'target']\n",
        "datasets.to_csv('sample_submission1.csv', index=False)\n",
        "datasets.head()"
      ],
      "execution_count": 117,
      "outputs": [
        {
          "output_type": "execute_result",
          "data": {
            "text/html": [
              "<div>\n",
              "<style scoped>\n",
              "    .dataframe tbody tr th:only-of-type {\n",
              "        vertical-align: middle;\n",
              "    }\n",
              "\n",
              "    .dataframe tbody tr th {\n",
              "        vertical-align: top;\n",
              "    }\n",
              "\n",
              "    .dataframe thead th {\n",
              "        text-align: right;\n",
              "    }\n",
              "</style>\n",
              "<table border=\"1\" class=\"dataframe\">\n",
              "  <thead>\n",
              "    <tr style=\"text-align: right;\">\n",
              "      <th></th>\n",
              "      <th>id</th>\n",
              "      <th>target</th>\n",
              "    </tr>\n",
              "  </thead>\n",
              "  <tbody>\n",
              "    <tr>\n",
              "      <th>0</th>\n",
              "      <td>649</td>\n",
              "      <td>1</td>\n",
              "    </tr>\n",
              "    <tr>\n",
              "      <th>1</th>\n",
              "      <td>81136</td>\n",
              "      <td>1</td>\n",
              "    </tr>\n",
              "    <tr>\n",
              "      <th>2</th>\n",
              "      <td>70762</td>\n",
              "      <td>1</td>\n",
              "    </tr>\n",
              "    <tr>\n",
              "      <th>3</th>\n",
              "      <td>53935</td>\n",
              "      <td>1</td>\n",
              "    </tr>\n",
              "    <tr>\n",
              "      <th>4</th>\n",
              "      <td>15476</td>\n",
              "      <td>1</td>\n",
              "    </tr>\n",
              "  </tbody>\n",
              "</table>\n",
              "</div>"
            ],
            "text/plain": [
              "      id  target\n",
              "0    649       1\n",
              "1  81136       1\n",
              "2  70762       1\n",
              "3  53935       1\n",
              "4  15476       1"
            ]
          },
          "metadata": {
            "tags": []
          },
          "execution_count": 117
        }
      ]
    },
    {
      "cell_type": "markdown",
      "metadata": {
        "id": "_OlDo5MrGBCF"
      },
      "source": [
        "# Conclusion"
      ]
    },
    {
      "cell_type": "markdown",
      "metadata": {
        "id": "Wn66IEBvGF-X"
      },
      "source": [
        "From the above predicted table its clear that Logistic Regression performs much better than the other two models. Yet there be might be problems of overfitting in all the three models. So, therefore going forth, all the three models can be tuned based on hyperparameters to find some more accuracy and predicting the results better. Like as shown below."
      ]
    },
    {
      "cell_type": "code",
      "metadata": {
        "colab": {
          "base_uri": "https://localhost:8080/"
        },
        "id": "71D0-yGUGjA3",
        "outputId": "8746e70c-b331-4353-8ecb-7159ef6799a1"
      },
      "source": [
        "from sklearn.model_selection import RepeatedStratifiedKFold, GridSearchCV\n",
        "\n",
        "logr2 = LogisticRegression()\n",
        "\n",
        "# parameters\n",
        "solvers = ['newton-cg', 'lbfgs', 'liblinear']\n",
        "penalty = ['l2']\n",
        "c_values = [100, 10, 1.0, 0.1, 0.01]\n",
        "\n",
        "# defining grid search\n",
        "grid = dict(solver=solvers, penalty=penalty, C=c_values)\n",
        "cv = RepeatedStratifiedKFold(n_splits=10, n_repeats=3, random_state=4)\n",
        "grid_search = GridSearchCV(estimator=logr2, param_grid=grid, n_jobs=-1, cv=cv, \n",
        "                           scoring='accuracy', error_score=0)\n",
        "grid_result = grid_search.fit(x_train, y_train)\n",
        "\n",
        "# summarizing results \n",
        "print(\"Best: %f using %s\" % (grid_result.best_score_, grid_result.best_params_))\n",
        "means = grid_result.cv_results_['mean_test_score']\n",
        "stds = grid_result.cv_results_['std_test_score']\n",
        "params = grid_result.cv_results_['params']\n",
        "\n",
        "for mean, stdev, param in zip(means, stds, params):\n",
        "    print(\"\\n%f (%f) with: %r\" % (mean, stdev, param))"
      ],
      "execution_count": 112,
      "outputs": [
        {
          "output_type": "stream",
          "text": [
            "Best: 0.939712 using {'C': 0.1, 'penalty': 'l2', 'solver': 'newton-cg'}\n",
            "\n",
            "0.939696 (0.001425) with: {'C': 100, 'penalty': 'l2', 'solver': 'newton-cg'}\n",
            "\n",
            "0.939696 (0.001425) with: {'C': 100, 'penalty': 'l2', 'solver': 'lbfgs'}\n",
            "\n",
            "0.939696 (0.001425) with: {'C': 100, 'penalty': 'l2', 'solver': 'liblinear'}\n",
            "\n",
            "0.939696 (0.001425) with: {'C': 10, 'penalty': 'l2', 'solver': 'newton-cg'}\n",
            "\n",
            "0.939696 (0.001425) with: {'C': 10, 'penalty': 'l2', 'solver': 'lbfgs'}\n",
            "\n",
            "0.939696 (0.001425) with: {'C': 10, 'penalty': 'l2', 'solver': 'liblinear'}\n",
            "\n",
            "0.939691 (0.001421) with: {'C': 1.0, 'penalty': 'l2', 'solver': 'newton-cg'}\n",
            "\n",
            "0.939691 (0.001421) with: {'C': 1.0, 'penalty': 'l2', 'solver': 'lbfgs'}\n",
            "\n",
            "0.939691 (0.001421) with: {'C': 1.0, 'penalty': 'l2', 'solver': 'liblinear'}\n",
            "\n",
            "0.939712 (0.001424) with: {'C': 0.1, 'penalty': 'l2', 'solver': 'newton-cg'}\n",
            "\n",
            "0.939712 (0.001424) with: {'C': 0.1, 'penalty': 'l2', 'solver': 'lbfgs'}\n",
            "\n",
            "0.939691 (0.001391) with: {'C': 0.1, 'penalty': 'l2', 'solver': 'liblinear'}\n",
            "\n",
            "0.939654 (0.001379) with: {'C': 0.01, 'penalty': 'l2', 'solver': 'newton-cg'}\n",
            "\n",
            "0.939654 (0.001379) with: {'C': 0.01, 'penalty': 'l2', 'solver': 'lbfgs'}\n",
            "\n",
            "0.939618 (0.001401) with: {'C': 0.01, 'penalty': 'l2', 'solver': 'liblinear'}\n"
          ],
          "name": "stdout"
        }
      ]
    }
  ]
}